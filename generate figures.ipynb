{
 "cells": [
  {
   "cell_type": "code",
   "execution_count": null,
   "id": "758f570c",
   "metadata": {},
   "outputs": [],
   "source": [
    "import pickle\n",
    "\n",
    "import numpy as np\n",
    "\n",
    "import matplotlib.colors as colors\n",
    "import matplotlib.pyplot as plt\n",
    "import matplotlib.ticker as ticker\n",
    "import matplotlib.lines as lines\n",
    "import seaborn as sns\n",
    "\n",
    "import scipy.stats as ss\n",
    "\n",
    "import jax\n",
    "import jax.numpy as jnp\n",
    "\n",
    "from identifiability import signals\n",
    "from identifiability.model.cascade_base import softlog as cascade_softlog\n",
    "import identifiability.model.cascade_k4p9_fb as cascade_k4p9_fb\n",
    "import identifiability.model.cascade_k4p11_fb as cascade_k4p11_fb"
   ]
  },
  {
   "cell_type": "code",
   "execution_count": null,
   "id": "693b1caa",
   "metadata": {},
   "outputs": [],
   "source": [
    "!mkdir -p ./figures-manuscript\n",
    "!mkdir -p ./figures-internal"
   ]
  },
  {
   "cell_type": "markdown",
   "id": "16de1377",
   "metadata": {},
   "source": [
    "# Plot utils"
   ]
  },
  {
   "cell_type": "markdown",
   "id": "b050bcf4",
   "metadata": {},
   "source": [
    "## settings"
   ]
  },
  {
   "cell_type": "code",
   "execution_count": null,
   "id": "88a58cd0",
   "metadata": {},
   "outputs": [],
   "source": [
    "plt.rcParams['svg.fonttype'] = 'none'\n",
    "plt.rcParams['font.family'] = 'Arial'\n",
    "plt.rcParams['axes.titlecolor'] = 'black'\n",
    "\n",
    "plt.rcParams['figure.dpi'] = 100\n",
    "\n",
    "plt.rcParams['xtick.labelsize'] = 8\n",
    "plt.rcParams['ytick.labelsize'] = 8\n",
    "\n",
    "plt.rcParams['axes.labelsize'] = 9\n",
    "plt.rcParams['axes.titlesize'] = 11"
   ]
  },
  {
   "cell_type": "code",
   "execution_count": null,
   "id": "1bd59622",
   "metadata": {},
   "outputs": [],
   "source": [
    "inch_per_h = 1.5 / 12\n",
    "inch_per_s = 1.0 / 30\n",
    "\n",
    "axsize_cascade_12h = (1.0, 0.5)\n",
    "axsize_signal_12h = (1.0, 0.33)\n",
    "\n",
    "axsize_hist = (1.0, 0.66)\n",
    "axsize_pca = (3.0, 1.0)\n",
    "\n",
    "axsize_springs_60s = (1.0, 1.0)\n",
    "axsize_springs_signal_60s = (1.0, 0.5)\n",
    "\n",
    "\n",
    "assert axsize_cascade_12h[0] == axsize_signal_12h[0]\n",
    "inch_per_h = axsize_cascade_12h[0] / 12\n",
    "\n",
    "assert axsize_springs_60s[0] == axsize_springs_signal_60s[0]\n",
    "inch_per_s = axsize_springs_60s[0] / 60"
   ]
  },
  {
   "cell_type": "code",
   "execution_count": null,
   "id": "3d3cbce1",
   "metadata": {},
   "outputs": [],
   "source": [
    "text_time_hour = \"Time [h]\"\n",
    "text_time_seconds = \"Time [s]\"\n",
    "text_pos_m = \"Position [m]\"\n",
    "text_softlog = \"softlog\"  # \"log_p\"\n",
    "text_signal = \"signal\"\n",
    "text_springs_signal = \"forcing [N]\"\n",
    "\n",
    "signal_type_to_label = {\n",
    "    'test': \"$S_{\\mathrm{test}}$\",\n",
    "    'train': \"$S_{\\mathrm{train}}$\",\n",
    "}\n",
    "\n",
    "signal_type_to_spring_label = {\n",
    "    'test': \"$F_{\\mathrm{test}}$ [N]\",\n",
    "    'train': \"$F_{\\mathrm{train}}$ [N]\",\n",
    "}"
   ]
  },
  {
   "cell_type": "code",
   "execution_count": null,
   "id": "72acee9c",
   "metadata": {},
   "outputs": [],
   "source": [
    "cascade_colors = colors.hsv_to_rgb([\n",
    "    [0.62, 1.0, 0.90],\n",
    "    [0.30, 1.0, 0.77],\n",
    "    [0.13, 1.0, 0.86],\n",
    "    [0.00, 1.0, 0.90],\n",
    "])\n",
    "springs_colors = [cascade_colors[0], cascade_colors[1], cascade_colors[3]]\n",
    "\n",
    "sampling_colors = ['#4fc6ff', '#ff8a19', '#a551b6']\n",
    "\n",
    "color_prior = '#c9c9c9'\n",
    "color_signal = 'grey'\n",
    "color_note = '#404040'\n",
    "\n",
    "alpha_mid = 0.5\n",
    "alpha_light = 0.3\n",
    "alpha_very_light = 0.15"
   ]
  },
  {
   "cell_type": "markdown",
   "id": "0f659916",
   "metadata": {},
   "source": [
    "## general utils"
   ]
  },
  {
   "cell_type": "code",
   "execution_count": null,
   "id": "8024d10c",
   "metadata": {},
   "outputs": [],
   "source": [
    "from collections.abc import Iterable\n",
    "import mpl_toolkits.axes_grid1 as ag\n",
    "\n",
    "\n",
    "def _normalize_axsizes_and_axcounts(axs, axc):\n",
    "    # if ax sizes are iterable, compute new ax count\n",
    "    if isinstance(axs, Iterable):\n",
    "        axs = list(axs)\n",
    "        if axc is None:\n",
    "            axc = len(axs)\n",
    "        else:\n",
    "            assert axc == len(axs), \"axes count doesn't agree with number of sizes\"\n",
    "    \n",
    "    # if not, make sure they are a list with correct count\n",
    "    else:\n",
    "        if axc is None:\n",
    "            axc = 1\n",
    "        axs = [axs for _ in range(axc)]\n",
    "\n",
    "    return axs, axc\n",
    "\n",
    "\n",
    "def _make_sizes(start, axs, end, spaces):\n",
    "    n = len(axs)\n",
    "    assert len(spaces) == n - 1\n",
    "    \n",
    "    ls = [start] + [e for p in zip(axs, spaces) for e in p] + [axs[-1], end]\n",
    "    ss = [ag.Size.Fixed(l) for l in ls]\n",
    "    \n",
    "    return ss, sum(ls)\n",
    "\n",
    "\n",
    "def subplots_from_axsize(\n",
    "    axsize=(3, 2),\n",
    "    nrows=None, ncols=None,\n",
    "    top=0.1, bottom=0.5, left=0.5, right=0.1,\n",
    "    hspace=0.5, wspace=0.5,\n",
    "):\n",
    "    \"\"\"\n",
    "    Similar to plt.subplots() but uses fixed instead of relative sizes.\n",
    "    This allows for more control over the final axes sizes.\n",
    "    \n",
    "    Examples:\n",
    "    subplots_from_axsize(axsize=(3, 2), nrows=2) creates a figure with two axes of size (3, 2)\n",
    "    subplots_from_axsize(axsize=(3, [2, 1])) creates a figure with two axes: (3, 2) and (3, 1)\n",
    "    \n",
    "    \"\"\"\n",
    "    axx, axy = axsize\n",
    "    \n",
    "    axx, ncols = _normalize_axsizes_and_axcounts(axx, ncols)\n",
    "    axy, nrows = _normalize_axsizes_and_axcounts(axy, nrows)\n",
    "    \n",
    "    hs, _ = _normalize_axsizes_and_axcounts(hspace, nrows - 1)\n",
    "    ws, _ = _normalize_axsizes_and_axcounts(wspace, ncols - 1)\n",
    "    \n",
    "    w_sizes, total_w = _make_sizes(left, axx, right, ws)\n",
    "    h_sizes, total_h = _make_sizes(top, axy, bottom, hs)\n",
    "    \n",
    "    fig = plt.figure(figsize=(total_w, total_h))\n",
    "    \n",
    "    divider = ag.Divider(fig, (0, 0, 1, 1), w_sizes, h_sizes[::-1], aspect=False)\n",
    "    axs = np.array([\n",
    "        [\n",
    "            fig.add_axes(divider.get_position(), axes_locator=divider.new_locator(nx=2*col+1, ny=2*row+1))\n",
    "            for col in range(ncols)\n",
    "        ]\n",
    "        for row in range(nrows-1, -1, -1)\n",
    "    ])\n",
    "        \n",
    "    return fig, axs"
   ]
  },
  {
   "cell_type": "code",
   "execution_count": null,
   "id": "169424a7",
   "metadata": {},
   "outputs": [],
   "source": [
    "def save_and_show(fig, path):\n",
    "    fig.savefig(path, transparent=True)\n",
    "    fig.patch.set_facecolor('fuchsia')\n",
    "    fig.patch.set_alpha(0.1)\n",
    "    plt.show()"
   ]
  },
  {
   "cell_type": "code",
   "execution_count": null,
   "id": "433d0042",
   "metadata": {},
   "outputs": [],
   "source": [
    "def axis_time_ticker(ax, xaxis=True, yaxis=False, major=3, minor=1):\n",
    "    if xaxis:\n",
    "        ax.xaxis.set_minor_locator(ticker.MultipleLocator(minor))\n",
    "        ax.xaxis.set_major_locator(ticker.MultipleLocator(major))\n",
    "    if yaxis:\n",
    "        ax.yaxis.set_minor_locator(ticker.MultipleLocator(minor))\n",
    "        ax.yaxis.set_major_locator(ticker.MultipleLocator(major))\n",
    "\n",
    "def log10_formatter(x, pos):\n",
    "    if round(x) == x and x >= 0:\n",
    "        if x <= 3:\n",
    "            return str(round(10**x))\n",
    "        return f\"$10^{round(x)}$\"\n",
    "\n",
    "    return f\"${10**x}$\"\n",
    "\n",
    "def latify_parameter_name(param_name):\n",
    "    assert len(param_name) == 2\n",
    "    return \"$\" + param_name[0] + \"_\" + param_name[1] + \"$\""
   ]
  },
  {
   "cell_type": "markdown",
   "id": "26d41d19",
   "metadata": {},
   "source": [
    "## axis formatters"
   ]
  },
  {
   "cell_type": "code",
   "execution_count": null,
   "id": "c9448e52",
   "metadata": {},
   "outputs": [],
   "source": [
    "def format_signal_ax(ax, t_min=0, t_max=None, y_min=0, y_max=1, signal_type='test'):\n",
    "    ax.spines.right.set_visible(False)\n",
    "    ax.spines.top.set_visible(False)\n",
    "    axis_time_ticker(ax)\n",
    "    \n",
    "    # y axis\n",
    "    ax.yaxis.set_minor_locator(ticker.MultipleLocator(0.5))\n",
    "    ax.yaxis.set_major_locator(ticker.MultipleLocator(1))\n",
    "    ax.set_ylim(y_min - 0.24 * (y_max - y_min), y_max)  # leave some space\n",
    "    ax.spines.left.set_bounds(y_min, y_max)  # pretty\n",
    "    \n",
    "    # grid\n",
    "    ax.grid(True, color='black', ls=':', which='both', axis='x', alpha=alpha_mid)\n",
    "    ax.grid(True, color='black', ls=':', which='major', axis='y', alpha=alpha_mid)\n",
    "    \n",
    "    # x axis\n",
    "    if t_max is None:\n",
    "        return\n",
    "    \n",
    "    ax.set_xlim(t_min - 0.5, t_max + 0.5)  # leave some space\n",
    "    ax.spines.bottom.set_bounds(t_min, t_max)  # pretty\n",
    "    \n",
    "    ax.set_ylabel(signal_type_to_label[signal_type])"
   ]
  },
  {
   "cell_type": "code",
   "execution_count": null,
   "id": "d42ca4d4",
   "metadata": {},
   "outputs": [],
   "source": [
    "def format_plot_ax(ax, t_min=0, t_max=None, y_min=None, y_max=None, y_xaxis_pos=None):\n",
    "    ax.spines.right.set_visible(False)\n",
    "    ax.spines.top.set_visible(False)\n",
    "    \n",
    "    # y axis\n",
    "    ax.yaxis.set_minor_locator(ticker.MultipleLocator(0.5))\n",
    "    ax.yaxis.set_major_locator(ticker.MultipleLocator(1))\n",
    "    y_xaxis_pos = y_xaxis_pos if y_xaxis_pos is not None else y_min - 0.3\n",
    "    ax.set_ylim(y_xaxis_pos, y_max)  # leave some space\n",
    "    ax.spines.left.set_bounds(y_min, y_max)  # pretty\n",
    "    \n",
    "    # grid\n",
    "    ax.grid(True, color='black', ls=':', which='both', axis='x', alpha=alpha_mid)\n",
    "    ax.grid(True, color='black', ls=':', which='major', axis='y', alpha=alpha_mid)\n",
    "    \n",
    "    # x axis\n",
    "    if t_max is None:\n",
    "        return\n",
    "    \n",
    "    ax.set_xlim(t_min - 0.5, t_max + 0.5)  # leave some space\n",
    "    ax.spines.bottom.set_bounds(t_min, t_max)  # pretty\n",
    "    \n",
    "def format_cascade_ax(\n",
    "    ax, t_min=0, t_max=None,\n",
    "    y_min=cascade_softlog(0.0),\n",
    "    y_max=cascade_softlog(1.0).round(2),\n",
    "    y_xaxis_pos=cascade_softlog(0.0) - 0.45,\n",
    "):\n",
    "    format_plot_ax(ax, t_min=t_min, t_max=t_max, y_min=y_min, y_max=y_max, y_xaxis_pos=y_xaxis_pos)\n",
    "    axis_time_ticker(ax)\n",
    "    \n",
    "def format_springs_ax(\n",
    "    ax, t_min=0, t_max=None,\n",
    "    y_min=-3,\n",
    "    y_max=+2,\n",
    "    y_xaxis_pos=None,\n",
    "):\n",
    "    format_plot_ax(ax, t_min=t_min, t_max=t_max, y_min=y_min, y_max=y_max, y_xaxis_pos=y_xaxis_pos)\n",
    "    axis_time_ticker(ax, minor=5, major=15)"
   ]
  },
  {
   "cell_type": "code",
   "execution_count": null,
   "id": "3754464f",
   "metadata": {},
   "outputs": [],
   "source": [
    "def format_hist_ax(ax, hist_range, ylim_max=2.0):\n",
    "    ax.spines.left.set_visible(False)\n",
    "    ax.spines.right.set_visible(False)\n",
    "    ax.spines.top.set_visible(False)\n",
    "    \n",
    "    ax.set_ylim(0, ylim_max)\n",
    "    if hist_range is not None:\n",
    "        ax.set_xlim(*hist_range)\n",
    "    \n",
    "    ax.set_yticks([])"
   ]
  },
  {
   "cell_type": "markdown",
   "id": "7a114bc6",
   "metadata": {},
   "source": [
    "## plotters"
   ]
  },
  {
   "cell_type": "code",
   "execution_count": null,
   "id": "cc3e1d35",
   "metadata": {},
   "outputs": [],
   "source": [
    "def plot_signal(ax, ts, signal):\n",
    "    ax.plot(ts, signal(ts), lw=3, color=color_signal, alpha=alpha_mid, clip_on=False)"
   ]
  },
  {
   "cell_type": "code",
   "execution_count": null,
   "id": "4f70f92d",
   "metadata": {},
   "outputs": [],
   "source": [
    "def plot_hist_samples(\n",
    "    ax,\n",
    "    samples,\n",
    "    color='black',\n",
    "    ylim_max=2.0,\n",
    "    hist_range=None,\n",
    "    parameter_name=None,\n",
    "):\n",
    "    ax.hist(\n",
    "        samples,\n",
    "        bins=60, range=hist_range, density=True,\n",
    "        histtype='step',\n",
    "        linewidth=1.5,\n",
    "        color=color,\n",
    "        clip_on=False,\n",
    "    )\n",
    "\n",
    "    format_hist_ax(ax, hist_range=hist_range, ylim_max=ylim_max)\n",
    "    \n",
    "    if parameter_name is not None:\n",
    "        ax.set_ylabel(latify_parameter_name(parameter_name), rotation=0)"
   ]
  },
  {
   "cell_type": "code",
   "execution_count": null,
   "id": "7a65cc22",
   "metadata": {},
   "outputs": [],
   "source": [
    "def lognormal_pdf_in_log10(\n",
    "    mi=1.0,\n",
    "    scale=3.0,\n",
    "    mult=1.0,  # 1000 or 10 for feedbacks\n",
    "):\n",
    "    mi_new = mi + np.log(mult)\n",
    "    \n",
    "    def pdf(xs):\n",
    "        return ss.norm.pdf(xs, loc=mi_new / np.log(10), scale=scale / np.log(10))\n",
    "    \n",
    "    return pdf\n",
    "\n",
    "    \n",
    "def plot_prior_pdf(\n",
    "    ax,\n",
    "    prior_pdf,\n",
    "    plot_range,\n",
    "):\n",
    "    ls = jnp.linspace(*plot_range, 301)\n",
    "    ax.fill_between(\n",
    "        ls,\n",
    "        0,\n",
    "        prior_pdf(ls),\n",
    "        color=color_prior,\n",
    "    )"
   ]
  },
  {
   "cell_type": "markdown",
   "id": "dd3de8b3",
   "metadata": {},
   "source": [
    "## figure templates"
   ]
  },
  {
   "cell_type": "code",
   "execution_count": null,
   "id": "b653295c",
   "metadata": {},
   "outputs": [],
   "source": [
    "def prep_signal_and_n_steps(hours, n_steps=4, scale_figure=1, hspace=0.35):\n",
    "    signal_y = axsize_signal_12h[1]\n",
    "    cascade_y = axsize_cascade_12h[1]\n",
    "    \n",
    "    return subplots_from_axsize(\n",
    "        axsize=(inch_per_h * float(hours) * scale_figure, [signal_y * scale_figure] + n_steps * [cascade_y * scale_figure]),\n",
    "        hspace=hspace,\n",
    "    )"
   ]
  },
  {
   "cell_type": "markdown",
   "id": "5a4b25c8",
   "metadata": {},
   "source": [
    "## standard figures"
   ]
  },
  {
   "cell_type": "code",
   "execution_count": null,
   "id": "91025195",
   "metadata": {},
   "outputs": [],
   "source": [
    "ts_train_default = jnp.linspace(0, 11, 12)\n",
    "\n",
    "ts_detailed_11h = jnp.linspace(0, 11, 1101)\n",
    "ts_detailed_12h = jnp.linspace(0, 12, 1201)"
   ]
  },
  {
   "cell_type": "code",
   "execution_count": null,
   "id": "3e328987",
   "metadata": {},
   "outputs": [],
   "source": [
    "def figure_cascade_training(\n",
    "    cascade, parameters,\n",
    "    ts_signal=ts_detailed_12h,\n",
    "    measurement_error=0.3,\n",
    "    signal_type='train',\n",
    "):\n",
    "    ts_train = cascade.ts\n",
    "    ys = cascade.run(parameters)\n",
    "    \n",
    "    # we add 1 hour for format_cascade_ax()\n",
    "    fig, axs = prep_signal_and_n_steps(ts_signal.max() - ts_signal.min() + 1)\n",
    "    \n",
    "    ax = axs[0, 0]\n",
    "    format_signal_ax(ax, t_max=ts_train.max(), signal_type=signal_type)\n",
    "    plot_signal(ax, ts_detailed_12h, cascade.signal)\n",
    "    \n",
    "    for i, ax in enumerate(axs[1:, 0]):\n",
    "        format_cascade_ax(ax, t_max=ts_train.max())\n",
    "        ax.set_xticks(ts_train, minor=True)        \n",
    "        ax.set_ylabel(f\"{text_softlog}$(K_{i+1})$\")\n",
    "\n",
    "        ax.errorbar(\n",
    "            ts_train, ys[..., i],\n",
    "            ls=':', lw=1,\n",
    "            yerr=measurement_error,\n",
    "            color=cascade_colors[i],\n",
    "            capsize=2,\n",
    "            #elinewidth=3,\n",
    "            #clip_on=False\n",
    "        )\n",
    "\n",
    "    ax.set_xlabel(text_time_hour)\n",
    "\n",
    "    return fig, axs"
   ]
  },
  {
   "cell_type": "code",
   "execution_count": null,
   "id": "a6dbd2ec",
   "metadata": {},
   "outputs": [],
   "source": [
    "def figure_cascade_prediction(\n",
    "    cascade_fit,\n",
    "    samples,\n",
    "    cascade_true=None,\n",
    "    parameters_true=None,\n",
    "    signal_y_max=2.0,\n",
    "    show_steps=[1, 2, 3, 4],\n",
    "    annotate_measured_steps=[],\n",
    "    signal_type='test',\n",
    "    scale_figure=1.0,\n",
    "):\n",
    "    if parameters_true is not None and cascade_true is None:\n",
    "        cascade_true = cascade_fit\n",
    "    \n",
    "    ts = cascade_fit.ts\n",
    "    \n",
    "    # we add 1 hour for format_cascade_ax()\n",
    "    fig, axs = prep_signal_and_n_steps(ts.max() - ts.min() + 1, n_steps=len(show_steps), scale_figure=scale_figure)\n",
    "    \n",
    "    if parameters_true is not None:\n",
    "        ys_true = cascade_true.run(parameters_true)\n",
    "    ys_pred = jax.lax.map(cascade_fit.run, samples)\n",
    "    \n",
    "    ys_q10, ys_med, ys_q90 = jnp.quantile(ys_pred, jnp.array([0.1, 0.5, 0.9]), axis=0)\n",
    "    \n",
    "    # plot signal\n",
    "    ax = axs[0, 0]\n",
    "    format_signal_ax(ax, t_max=ts.max(), y_max=signal_y_max, signal_type=signal_type)\n",
    "    plot_signal(ax, ts, cascade_fit.signal)\n",
    "    \n",
    "    # plot steps\n",
    "    for ax, step in zip(axs[1:, 0], show_steps):\n",
    "        step_idx = step - 1\n",
    "        format_cascade_ax(ax, t_max=ts.max())\n",
    "        \n",
    "        # prediction\n",
    "        ax.fill_between(ts, ys_q10[..., step_idx], ys_q90[..., step_idx], color=cascade_colors[step_idx], alpha=0.3)\n",
    "        ax.plot(ts, ys_med[..., step_idx], color=cascade_colors[step_idx])\n",
    "        \n",
    "        # true\n",
    "        if parameters_true is not None:\n",
    "            ax.plot(ts, ys_true[..., step_idx], ':', color='black')\n",
    "            \n",
    "        # measured\n",
    "        #if step in annotate_measured_steps:\n",
    "        #    ax.annotate('measured', (0.5, 0.85), color=color_note, xycoords='axes fraction', ha='center', va='center')\n",
    "        \n",
    "        ax.set_ylabel(f\"{text_softlog}$(K_{step})$\")\n",
    "\n",
    "    ax.set_xlabel(text_time_hour)\n",
    "    \n",
    "    # title\n",
    "    #ax = axs[0, 0]\n",
    "    #ax.set_title(title, color=color_note, pad=12)\n",
    "    \n",
    "    return fig, axs"
   ]
  },
  {
   "cell_type": "code",
   "execution_count": null,
   "id": "27593afc",
   "metadata": {},
   "outputs": [],
   "source": [
    "def figure_changes_prediction(\n",
    "    cascade_fit,\n",
    "    samples,\n",
    "    cascade_true=None,\n",
    "    parameters_true=None,\n",
    "    step_idx=3,\n",
    "    strength=10.0,\n",
    "    signal_y_max=2.0,\n",
    "    signal_type='test',\n",
    "    scale_figure=1.0,\n",
    "    hspace=0.35,\n",
    "):\n",
    "    if parameters_true is not None and cascade_true is None:\n",
    "        cascade_true = cascade_fit\n",
    "    \n",
    "    assert cascade_fit.parameters_names == cascade_true.parameters_names\n",
    "    \n",
    "    ts = cascade_fit.ts\n",
    "    \n",
    "    # we add 1 hour for format_cascade_ax()\n",
    "    n_params = samples.shape[-1]\n",
    "    fig, axs = prep_signal_and_n_steps(ts.max() - ts.min() + 1, n_steps=n_params, scale_figure=scale_figure, hspace=hspace)\n",
    "        \n",
    "    # plot signal\n",
    "    ax = axs[0, 0]\n",
    "    format_signal_ax(ax, t_max=ts.max(), y_max=signal_y_max, signal_type=signal_type)\n",
    "    plot_signal(ax, ts, cascade_fit.signal)\n",
    "\n",
    "    # plot steps\n",
    "    for i, ax in enumerate(axs[1:, 0]):\n",
    "        format_cascade_ax(ax, t_max=ts.max())\n",
    "        for mul, color in [(1 / strength, 'blue'), (strength, 'red')]:\n",
    "            # set up changed parameters\n",
    "            factors = jnp.ones(n_params).at[i].set(mul)\n",
    "            samples_changed = samples * factors[None]\n",
    "            if parameters_true is not None:\n",
    "                parameters_true_changed = parameters_true * factors\n",
    "        \n",
    "            # run prediction\n",
    "            ys_pred = jax.lax.map(cascade_fit.run, samples_changed)\n",
    "            ys_q10, ys_med, ys_q90 = jnp.quantile(ys_pred, jnp.array([0.1, 0.5, 0.9]), axis=0)\n",
    "            if parameters_true is not None:\n",
    "                ys_true = cascade_true.run(parameters_true_changed)\n",
    "                \n",
    "            # plot\n",
    "            ## prediction\n",
    "            ax.fill_between(ts, ys_q10[..., step_idx], ys_q90[..., step_idx], color=color, alpha=0.3)\n",
    "            ax.plot(ts, ys_med[..., step_idx], color=color)\n",
    "            ## true\n",
    "            if parameters_true is not None:\n",
    "                ax.plot(ts, ys_true[..., step_idx], ':', color='black')\n",
    "            \n",
    "        parameter_name = cascade_fit.parameters_names[i]\n",
    "        ax.set_title(\"[\" + latify_parameter_name(parameter_name) + \"]\")\n",
    "        ax.set_ylabel(f\"{text_softlog}$(K_{step_idx + 1})$\")\n",
    "\n",
    "    ax.set_xlabel(text_time_hour)\n",
    "    \n",
    "    return fig, axs"
   ]
  },
  {
   "cell_type": "code",
   "execution_count": null,
   "id": "fce974d3",
   "metadata": {},
   "outputs": [],
   "source": [
    "def figure_springs_prediction(\n",
    "    springs_fit,\n",
    "    samples,\n",
    "    springs_true=None,\n",
    "    parameters_true=None,\n",
    "    signal_y_min=-0.2, signal_y_max=0.2,\n",
    "    signal_type='test',\n",
    "):\n",
    "    if parameters_true is not None and springs_true is None:\n",
    "        springs_true = springs_fit\n",
    "    \n",
    "    ts = springs_fit.ts\n",
    "    \n",
    "    # we add 1 hour for format_springs_ax()\n",
    "    plot_duration = float(ts.max() - ts.min() + 1)\n",
    "    springs_signal_y = axsize_springs_signal_60s[1]\n",
    "    springs_y = axsize_springs_60s[1]\n",
    "    fig, axs = subplots_from_axsize(\n",
    "        axsize=(inch_per_s * plot_duration, [springs_signal_y, springs_y]),\n",
    "        hspace=0.35,\n",
    "    )\n",
    "    ax_signal, ax_springs = axs.reshape(-1)\n",
    "    \n",
    "    if parameters_true is not None:\n",
    "        ys_true = springs_true.run(parameters_true)\n",
    "    ys_pred = jax.lax.map(springs_fit.run, samples)\n",
    "    \n",
    "    ys_q10, ys_med, ys_q90 = jnp.quantile(ys_pred, jnp.array([0.1, 0.5, 0.9]), axis=0)\n",
    "    \n",
    "    # plot signal\n",
    "    ax = ax_signal\n",
    "    format_signal_ax(ax, t_max=ts.max(), y_min=signal_y_min, y_max=signal_y_max)\n",
    "    plot_signal(ax, ts, springs_fit.signal)\n",
    "    axis_time_ticker(ax, minor=5, major=15)\n",
    "    ax.yaxis.set_minor_locator(ticker.MultipleLocator(0.1))\n",
    "    ax.yaxis.set_major_locator(ticker.MultipleLocator(0.2))\n",
    "    ax.set_ylabel(signal_type_to_spring_label[signal_type])\n",
    "    \n",
    "    # plot steps\n",
    "    ax = ax_springs\n",
    "    format_springs_ax(ax, t_max=ts.max())\n",
    "    for i in range(ys_pred.shape[-1]):\n",
    "        # prediction\n",
    "        ax.fill_between(ts, ys_q10[..., i], ys_q90[..., i], color=springs_colors[i], alpha=0.3)\n",
    "        ax.plot(ts, ys_med[..., i], color=springs_colors[i])\n",
    "        \n",
    "        # true\n",
    "        if parameters_true is not None:\n",
    "            ax.plot(ts, ys_true[..., i], ':', color='black')\n",
    "    \n",
    "    ax.set_xlabel(text_time_seconds)\n",
    "    ax.set_ylabel(text_pos_m)\n",
    "    \n",
    "    return fig, axs"
   ]
  },
  {
   "cell_type": "code",
   "execution_count": null,
   "id": "b6b5cb7a",
   "metadata": {},
   "outputs": [],
   "source": [
    "def figure_histograms_raw(\n",
    "    parameters_names,\n",
    "    samplings,\n",
    "    sampling_colors=sampling_colors,\n",
    "    param_name_to_hist_range=lambda _: (-5, 5),\n",
    "    param_name_to_prior_pdf=lambda _: None,\n",
    "    parameters_true=None,\n",
    "    ylim_max=2.0,\n",
    "    horizontal=False,\n",
    "    hspace=0.3,\n",
    "    wspace=0.4,\n",
    "):\n",
    "    nrows_or_ncols = {\n",
    "        ('ncols' if horizontal else 'nrows'): len(parameters_names),\n",
    "    }\n",
    "    fig, axs = subplots_from_axsize(\n",
    "        axsize=axsize_hist,\n",
    "        **nrows_or_ncols,\n",
    "        hspace=hspace,\n",
    "        wspace=wspace,\n",
    "    )\n",
    "\n",
    "    for i, (param_name, ax) in enumerate(zip(parameters_names, axs.reshape(-1))):\n",
    "        hist_range = param_name_to_hist_range(param_name)\n",
    "        prior_pdf = param_name_to_prior_pdf(param_name)\n",
    "        \n",
    "        plot_prior_pdf(ax, prior_pdf, hist_range)\n",
    "        \n",
    "        if parameters_true is not None:\n",
    "            ax.axvline(parameters_true[i], color='black', ls=':')\n",
    "        \n",
    "        for samples, color in zip(samplings, sampling_colors):\n",
    "            plot_hist_samples(\n",
    "                ax,\n",
    "                samples[..., i],\n",
    "                hist_range=hist_range,\n",
    "                color=color, ylim_max=ylim_max,\n",
    "                parameter_name=param_name\n",
    "            )\n",
    "            \n",
    "    return fig, axs"
   ]
  },
  {
   "cell_type": "code",
   "execution_count": null,
   "id": "2d0e61cf",
   "metadata": {},
   "outputs": [],
   "source": [
    "def figure_histograms_cascade(\n",
    "    parameters_names,\n",
    "    samplings,\n",
    "    sampling_colors=sampling_colors,\n",
    "    select=None,\n",
    "    feedback_param_shift=1000.0,\n",
    "    parameters_true=None,\n",
    "    **kwargs,\n",
    "):\n",
    "    # useful for masking parameters\n",
    "    if select is not None:\n",
    "        parameters_names = select(parameters_names)\n",
    "        samplings = [select(s) for s in samplings]\n",
    "        if parameters_true is not None:\n",
    "            parameters_true = select(parameters_true)\n",
    "            \n",
    "    # make log10\n",
    "    samplings = np.log10(samplings)\n",
    "    if parameters_true is not None:\n",
    "        parameters_true = np.log10(parameters_true)\n",
    "    \n",
    "    def param_name_to_hist_range(param_name):\n",
    "        if param_name[0] == 'f':\n",
    "            return (-3 + np.log10(feedback_param_shift), 4 + np.log10(feedback_param_shift))\n",
    "        else:\n",
    "            return (-3, 4)\n",
    "        \n",
    "    def param_name_to_prior_pdf(param_name):\n",
    "        if param_name[0] == 'f':\n",
    "            return lognormal_pdf_in_log10(mult=feedback_param_shift)\n",
    "        else:\n",
    "            return lognormal_pdf_in_log10()\n",
    "\n",
    "    fig, axs = figure_histograms_raw(\n",
    "        parameters_names,\n",
    "        samplings,\n",
    "        sampling_colors=sampling_colors,\n",
    "        param_name_to_hist_range=param_name_to_hist_range,\n",
    "        param_name_to_prior_pdf=param_name_to_prior_pdf,\n",
    "        parameters_true=parameters_true,\n",
    "        **kwargs,\n",
    "    )\n",
    "    \n",
    "    # make annotations in normal scale\n",
    "    for ax in axs.reshape(-1):\n",
    "        ax.xaxis.set_major_formatter(log10_formatter)\n",
    "        ax.xaxis.set_minor_locator(ticker.MultipleLocator(1))\n",
    "        ax.xaxis.set_major_locator(ticker.MultipleLocator(3))\n",
    "        \n",
    "    return fig, axs"
   ]
  },
  {
   "cell_type": "code",
   "execution_count": null,
   "id": "5bf5cceb",
   "metadata": {},
   "outputs": [],
   "source": [
    "def figure_histograms_springs(\n",
    "    parameters_names,\n",
    "    samplings,\n",
    "    sampling_colors=sampling_colors,\n",
    "    select=None,\n",
    "    parameters_true=None,\n",
    "    **kwargs,\n",
    "):\n",
    "    # useful for masking parameters\n",
    "    if select is not None:\n",
    "        parameters_names = select(parameters_names)\n",
    "        samplings = [select(s) for s in samplings]\n",
    "        if parameters_true is not None:\n",
    "            parameters_true = select(parameters_true)\n",
    "\n",
    "    \n",
    "    def param_name_to_hist_range(param_name):\n",
    "        if param_name[0] == 'm':\n",
    "            return (0, 20)\n",
    "        else:\n",
    "            return (0, 5)\n",
    "        \n",
    "    def param_name_to_prior_pdf(param_name):\n",
    "        if param_name[0] == 'm':\n",
    "            return lambda _: 1/(20 - 0.1)\n",
    "        else:\n",
    "            return lambda _: 1/(5 - 0.1)\n",
    "\n",
    "    fig, axs = figure_histograms_raw(\n",
    "        parameters_names,\n",
    "        samplings,\n",
    "        sampling_colors=sampling_colors,\n",
    "        param_name_to_hist_range=param_name_to_hist_range,\n",
    "        param_name_to_prior_pdf=param_name_to_prior_pdf,\n",
    "        parameters_true=parameters_true,\n",
    "        **kwargs,\n",
    "    )\n",
    "    \n",
    "    # make annotations in normal scale\n",
    "    for ax, param_name in zip(axs.reshape(-1), parameters_names):\n",
    "        if param_name[0] == 'm':\n",
    "            ax.xaxis.set_minor_locator(ticker.MultipleLocator(1))\n",
    "            ax.xaxis.set_major_locator(ticker.MultipleLocator(5))\n",
    "        else:\n",
    "            ax.xaxis.set_minor_locator(ticker.MultipleLocator(0.5))\n",
    "            ax.xaxis.set_major_locator(ticker.MultipleLocator(1))\n",
    "            \n",
    "    return fig, axs"
   ]
  },
  {
   "cell_type": "code",
   "execution_count": null,
   "id": "fd864d70",
   "metadata": {},
   "outputs": [],
   "source": [
    "from sklearn.decomposition import PCA\n",
    "\n",
    "def compute_stds(samples):\n",
    "    assert len(samples.shape) == 2\n",
    "    samples = samples - samples.mean(keepdims=True, axis=0)\n",
    "    variances = PCA().fit(samples).explained_variance_\n",
    "    return np.sqrt(variances)\n",
    "\n",
    "\n",
    "def figure_pca(\n",
    "    samplings,\n",
    "    sampling_colors=sampling_colors,\n",
    "    log=True,\n",
    "):\n",
    "    if log:\n",
    "        samplings = np.log(samplings)\n",
    "    \n",
    "    sds = np.array([\n",
    "        compute_stds(samples) for samples in samplings\n",
    "    ])\n",
    "\n",
    "    fig, axs = subplots_from_axsize(axsize=axsize_pca)\n",
    "    ax = axs[0, 0]\n",
    "    \n",
    "    n_dims = sds.shape[-1]\n",
    "    n_bars = sds.shape[0] + 1\n",
    "    \n",
    "    # bar placement\n",
    "    ls = 1.2 * np.arange(n_dims)\n",
    "    offsets = np.arange(n_bars) * 0.2\n",
    "    offsets = offsets - offsets.mean()\n",
    "    \n",
    "    # prior\n",
    "    ax.bar(ls + offsets[0], np.exp(np.full_like(sds[0], 3)), 0.2, color=color_prior)\n",
    "    \n",
    "    # samplings\n",
    "    for offset, sd, color in zip(offsets[1:], sds, sampling_colors):\n",
    "        ax.bar(ls + offset, np.exp(sd), 0.2, color=color)\n",
    "        \n",
    "    # make nice\n",
    "    ax.set_xticks(ls, [\"$\\delta_{\" + str(i+1) + \"}$\" for i in range(len(ls))])\n",
    "    ax.set_yscale('log')\n",
    "    ax.set_yticks([1, 1.5, 3, 10, 20])\n",
    "    ax.set_yticks([], minor=True)\n",
    "    ax.yaxis.set_major_formatter('{x:.1f}')\n",
    "    ax.set_ylim(1.0, np.exp(3))\n",
    "    ax.grid(True, color='black', ls=':', which='major', axis='y', alpha=0.5, clip_on=False)\n",
    "    #ax.grid(True, color='black', ls=':', which='minor', axis='y', alpha=1.0, clip_on=False)\n",
    "    ax.spines.right.set_visible(False)\n",
    "    ax.spines.top.set_visible(False)\n",
    "    \n",
    "    return fig, axs"
   ]
  },
  {
   "cell_type": "markdown",
   "id": "70aa00ff",
   "metadata": {},
   "source": [
    "# Eigenvectors"
   ]
  },
  {
   "cell_type": "code",
   "execution_count": null,
   "id": "7a1e5458",
   "metadata": {},
   "outputs": [],
   "source": [
    "def samples_pca(samples):\n",
    "    assert len(samples.shape) == 2\n",
    "    \n",
    "    samples = samples.copy()\n",
    "    samples = np.log(samples)\n",
    "    samples = samples - samples.mean(keepdims=True, axis=0)\n",
    "    pca = PCA().fit(samples)\n",
    "    stds = np.sqrt(pca.explained_variance_)\n",
    "    \n",
    "    return pca.components_"
   ]
  },
  {
   "cell_type": "code",
   "execution_count": null,
   "id": "aa985838",
   "metadata": {},
   "outputs": [],
   "source": [
    "def plot_eigenvector(ax, v):\n",
    "    assert len(v) == 9\n",
    "    \n",
    "    # fix signs\n",
    "    if np.abs(v[0]) > 0.1:\n",
    "        v = v * np.sign(v[0])\n",
    "    elif np.sum(v[::2]) != 0:\n",
    "        v = v * np.sign(np.sum(v[::2]))\n",
    "    \n",
    "    # prep table\n",
    "    e = np.full(10, np.nan)\n",
    "    e[:8] = v[:8]\n",
    "    e[-1] = v[-1]\n",
    "    e = e.reshape(-1, 2).transpose()\n",
    "    \n",
    "    # plot\n",
    "    sns.heatmap(\n",
    "        e, ax=ax, annot=True,\n",
    "        vmin=-1, vmax=+1, fmt=f'.2f',\n",
    "        square=True, cmap='coolwarm', linewidth=1,\n",
    "        cbar=False, xticklabels=False, yticklabels=False,\n",
    "    )\n",
    "    \n",
    "    return ax"
   ]
  },
  {
   "cell_type": "code",
   "execution_count": null,
   "id": "a0f89dbf",
   "metadata": {},
   "outputs": [],
   "source": [
    "def disentangle_vectors(vs, mask):\n",
    "    n, _ = vs.shape\n",
    "    \n",
    "    def loss(a):\n",
    "        g = a - a.transpose()\n",
    "        m = jax.scipy.linalg.expm(g)\n",
    "        ws = m.dot(vs)\n",
    "        ls = ws * mask\n",
    "        return jnp.sum(jnp.square(ls))\n",
    "    \n",
    "    grad = jax.grad(loss)\n",
    "    loss = jax.jit(loss)\n",
    "    grad = jax.jit(grad)\n",
    "    \n",
    "    # find optimal rotation\n",
    "    a = jnp.array(np.random.normal(size=(n, n)))\n",
    "    print(f\"Initial loss: {loss(a):.3f}\")\n",
    "    for _ in range(5000):\n",
    "        a -= 0.01 * grad(a)\n",
    "    print(f\"Final loss: {loss(a):.3f}\")\n",
    "    \n",
    "    # disentangle\n",
    "    g = a - a.transpose()\n",
    "    m = jax.scipy.linalg.expm(g)\n",
    "    ws = m.dot(vs)\n",
    "    return ws"
   ]
  },
  {
   "cell_type": "markdown",
   "id": "5b708a87",
   "metadata": {},
   "source": [
    "# Data utils"
   ]
  },
  {
   "cell_type": "code",
   "execution_count": null,
   "id": "4e9498ed",
   "metadata": {},
   "outputs": [],
   "source": [
    "def load_samples(cache_path): \n",
    "    with open(cache_path, 'rb') as handle:\n",
    "        samples = pickle.load(handle)['samples_by_chain']\n",
    "        samples = samples.reshape(-1, samples.shape[-1])  # drop chain axis\n",
    "\n",
    "    return samples\n",
    "\n",
    "\n",
    "def subsample_for_pred(samples, goal=1000):\n",
    "    num_samples, num_params = samples.shape\n",
    "    thinning = num_samples // goal\n",
    "    thinning = max(1, thinning)\n",
    "    samples_pred = samples[::thinning]\n",
    "    \n",
    "    assert len(samples_pred) == goal\n",
    "    \n",
    "    return samples_pred"
   ]
  },
  {
   "cell_type": "markdown",
   "id": "32198dd4",
   "metadata": {},
   "source": [
    "# Figures"
   ]
  },
  {
   "cell_type": "markdown",
   "id": "142291af",
   "metadata": {},
   "source": [
    "# Figure 1. Introduction to the model"
   ]
  },
  {
   "cell_type": "markdown",
   "id": "3386ae8a",
   "metadata": {},
   "source": [
    "## Figure 1A. Model scheme (external)"
   ]
  },
  {
   "cell_type": "markdown",
   "id": "032d6c21",
   "metadata": {},
   "source": [
    "## Figure 1B. Model equations (external)"
   ]
  },
  {
   "cell_type": "markdown",
   "id": "b849e989",
   "metadata": {},
   "source": [
    "## Figure 1C. Model parameters table (external)"
   ]
  },
  {
   "cell_type": "markdown",
   "id": "fb42f12e",
   "metadata": {},
   "source": [
    "## Figure 1D. Model default training trajectory (signal 4h)"
   ]
  },
  {
   "cell_type": "code",
   "execution_count": null,
   "id": "88da3340",
   "metadata": {},
   "outputs": [],
   "source": [
    "fig, axs = figure_cascade_training(\n",
    "    cascade_k4p9_fb.CascadeK4P9Fb(ts=ts_train_default+1, signal=signals.make_pulse_delayed(4)),\n",
    "    cascade_k4p9_fb.parameters_default,\n",
    ")\n",
    "save_and_show(fig, './figures-manuscript/fig-1d-training-data.svg')"
   ]
  },
  {
   "cell_type": "markdown",
   "id": "b2a7e1d9",
   "metadata": {},
   "source": [
    "# Figure 2. Prediction"
   ]
  },
  {
   "cell_type": "code",
   "execution_count": null,
   "id": "0c45e7f7",
   "metadata": {},
   "outputs": [],
   "source": [
    "samples_4, samples_24, samples_1234 = map(load_samples, [\n",
    "    './cache/cascade_k4p9_fb_self_4h_measure_4.pkl',\n",
    "    './cache/cascade_k4p9_fb_self_4h_measure_2+4.pkl',\n",
    "    './cache/cascade_k4p9_fb_self_4h_measure_1+2+3+4.pkl',\n",
    "])\n",
    "\n",
    "samples_4_pred, samples_24_pred, samples_1234_pred = map(subsample_for_pred,\n",
    "    [samples_4, samples_24, samples_1234]\n",
    ")"
   ]
  },
  {
   "cell_type": "markdown",
   "id": "557138f9",
   "metadata": {},
   "source": [
    "## Figure 2A. Prediction on blocky, measure 4"
   ]
  },
  {
   "cell_type": "code",
   "execution_count": null,
   "id": "6dd4ac0b",
   "metadata": {},
   "outputs": [],
   "source": [
    "%%time\n",
    "fig, axs = figure_cascade_prediction(\n",
    "    cascade_k4p9_fb.CascadeK4P9Fb(ts=ts_detailed_12h, signal=signals.test_blocky),\n",
    "    samples_4_pred,\n",
    "    parameters_true=cascade_k4p9_fb.parameters_default,\n",
    "    annotate_measured_steps=[4],\n",
    ")\n",
    "\n",
    "save_and_show(fig, './figures-manuscript/fig-2a-K4-pred-blocky.svg')"
   ]
  },
  {
   "cell_type": "markdown",
   "id": "9a1e56dc",
   "metadata": {},
   "source": [
    "## Figure 2B. Prediction on wiggly, measure 4"
   ]
  },
  {
   "cell_type": "code",
   "execution_count": null,
   "id": "84e527e6",
   "metadata": {},
   "outputs": [],
   "source": [
    "%%time\n",
    "fig, axs = figure_cascade_prediction(\n",
    "    cascade_k4p9_fb.CascadeK4P9Fb(ts=ts_detailed_12h, signal=signals.test_wiggly),\n",
    "    samples_4_pred,\n",
    "    parameters_true=cascade_k4p9_fb.parameters_default,\n",
    "    annotate_measured_steps=[4],\n",
    ")\n",
    "\n",
    "save_and_show(fig, './figures-manuscript/fig-2b-K4-pred-wiggly.svg')"
   ]
  },
  {
   "cell_type": "markdown",
   "id": "f50f49d2",
   "metadata": {},
   "source": [
    "## Figure 2C. Prediction on blocky, measure 2+4"
   ]
  },
  {
   "cell_type": "code",
   "execution_count": null,
   "id": "0b18a3ca",
   "metadata": {},
   "outputs": [],
   "source": [
    "%%time\n",
    "fig, axs = figure_cascade_prediction(\n",
    "    cascade_k4p9_fb.CascadeK4P9Fb(ts=ts_detailed_12h, signal=signals.test_blocky),\n",
    "    samples_24_pred,\n",
    "    parameters_true=cascade_k4p9_fb.parameters_default,\n",
    "    annotate_measured_steps=[2, 4],\n",
    ")\n",
    "\n",
    "save_and_show(fig, './figures-manuscript/fig-2c-K24-pred-blocky.svg')"
   ]
  },
  {
   "cell_type": "markdown",
   "id": "06c4c54e",
   "metadata": {},
   "source": [
    "## Figure 2D. Prediction on blocky, measure 1+2+3+4"
   ]
  },
  {
   "cell_type": "code",
   "execution_count": null,
   "id": "47fe508a",
   "metadata": {},
   "outputs": [],
   "source": [
    "%%time\n",
    "fig, axs = figure_cascade_prediction(\n",
    "    cascade_k4p9_fb.CascadeK4P9Fb(ts=ts_detailed_12h, signal=signals.test_blocky),\n",
    "    samples_1234_pred,\n",
    "    parameters_true=cascade_k4p9_fb.parameters_default,\n",
    "    annotate_measured_steps=[1, 2, 3, 4],\n",
    ")\n",
    "\n",
    "save_and_show(fig, './figures-manuscript/fig-2d-K1234-pred-blocky.svg')"
   ]
  },
  {
   "cell_type": "markdown",
   "id": "0a995283",
   "metadata": {},
   "source": [
    "## Figure 2E. Compare histograms"
   ]
  },
  {
   "cell_type": "code",
   "execution_count": null,
   "id": "4f815623",
   "metadata": {},
   "outputs": [],
   "source": [
    "kwargs=dict(\n",
    "    parameters_names=cascade_k4p9_fb.CascadeK4P9Fb(ts=ts_detailed_12h, signal=None).parameters_names,\n",
    "    samplings=[samples_4, samples_24, samples_1234],\n",
    "    parameters_true=cascade_k4p9_fb.parameters_default,\n",
    "    hspace=0.5,\n",
    ")\n",
    "\n",
    "fig, axs = figure_histograms_cascade(\n",
    "    **kwargs, select=lambda x: np.array(x)[..., 0:-1:2], ylim_max=3.0, \n",
    ")\n",
    "save_and_show(fig, './figures-manuscript/fig-2e1-hist-as.svg')\n",
    "\n",
    "fig, axs = figure_histograms_cascade(\n",
    "    **kwargs, select=lambda x: np.array(x)[..., 1:-1:2], ylim_max=3.0,\n",
    ")\n",
    "save_and_show(fig, './figures-manuscript/fig-2e2-hist-ds.svg')\n",
    "\n",
    "fig, axs = figure_histograms_cascade(\n",
    "    **kwargs, select=lambda x: np.array(x)[..., -1:], ylim_max=3.0,\n",
    ")\n",
    "save_and_show(fig, './figures-manuscript/fig-2e3-hist-f.svg')"
   ]
  },
  {
   "cell_type": "markdown",
   "id": "12443101",
   "metadata": {},
   "source": [
    "## Figure 2F. PCA dimensionality analysis"
   ]
  },
  {
   "cell_type": "code",
   "execution_count": null,
   "id": "51111231",
   "metadata": {},
   "outputs": [],
   "source": [
    "fig, axs = figure_pca([samples_4, samples_24, samples_1234])\n",
    "save_and_show(fig, './figures-manuscript/fig-2f-pca.svg')"
   ]
  },
  {
   "cell_type": "markdown",
   "id": "aace2c52",
   "metadata": {},
   "source": [
    "# Figure 3. KOs"
   ]
  },
  {
   "cell_type": "markdown",
   "id": "088de4b7",
   "metadata": {},
   "source": [
    "## Figure 3A. Prediction on blocky, measure 4"
   ]
  },
  {
   "cell_type": "code",
   "execution_count": null,
   "id": "dcda399e",
   "metadata": {},
   "outputs": [],
   "source": [
    "%%time\n",
    "\n",
    "fig, axs = figure_changes_prediction(\n",
    "    cascade_k4p9_fb.CascadeK4P9Fb(ts=ts_detailed_12h, signal=signals.test_blocky),\n",
    "    samples_4_pred,\n",
    "    parameters_true=cascade_k4p9_fb.parameters_default,\n",
    "    strength=10.0,\n",
    "    scale_figure=1.0,\n",
    "    hspace=0.5,\n",
    ")\n",
    "\n",
    "fig.legend(\n",
    "    [lines.Line2D([0], [0], color='red', lw=2), lines.Line2D([0], [0], color='blue', lw=2)],\n",
    "    ['× 10', '÷ 10'],\n",
    "    loc='outside lower center', frameon=False,\n",
    ")\n",
    "\n",
    "save_and_show(fig, './figures-manuscript/fig-3a-blocky.svg')"
   ]
  },
  {
   "cell_type": "markdown",
   "id": "ae946035",
   "metadata": {},
   "source": [
    "## Figure 3B. Prediction on wiggly, measure 4"
   ]
  },
  {
   "cell_type": "code",
   "execution_count": null,
   "id": "dfd7bea5",
   "metadata": {},
   "outputs": [],
   "source": [
    "%%time\n",
    "\n",
    "fig, axs = figure_changes_prediction(\n",
    "    cascade_k4p9_fb.CascadeK4P9Fb(ts=ts_detailed_12h, signal=signals.test_wiggly),\n",
    "    samples_4_pred,\n",
    "    parameters_true=cascade_k4p9_fb.parameters_default,\n",
    "    strength=10.0,\n",
    "    scale_figure=1.0,\n",
    "    hspace=0.5,\n",
    ")\n",
    "\n",
    "save_and_show(fig, './figures-manuscript/fig-3b-wiggly.svg')"
   ]
  },
  {
   "cell_type": "markdown",
   "id": "3edc6c55",
   "metadata": {},
   "source": [
    "# Figure 4. Relaxed model"
   ]
  },
  {
   "cell_type": "code",
   "execution_count": null,
   "id": "a78dcc55",
   "metadata": {},
   "outputs": [],
   "source": [
    "samples_relaxed_4, samples_relaxed_1234 = map(load_samples, [\n",
    "    './cache/cascade_k4p11_fb_to_cascade_k4p9_fb_4h_measure_4.pkl',\n",
    "    './cache/cascade_k4p11_fb_to_cascade_k4p9_fb_4h_measure_1+2+3+4.pkl',\n",
    "])\n",
    "\n",
    "samples_relaxed_4_pred, samples_relaxed_1234_pred = map(subsample_for_pred,\n",
    "    [samples_relaxed_4, samples_relaxed_1234]\n",
    ")"
   ]
  },
  {
   "cell_type": "markdown",
   "id": "18932228",
   "metadata": {},
   "source": [
    "## Figure 4A. Prediction on blocky, measure 4"
   ]
  },
  {
   "cell_type": "code",
   "execution_count": null,
   "id": "d9713962",
   "metadata": {},
   "outputs": [],
   "source": [
    "%%time\n",
    "fig, axs = figure_cascade_prediction(\n",
    "    cascade_k4p11_fb.CascadeK4P11Fb(ts=ts_detailed_12h, signal=signals.test_blocky),\n",
    "    samples_relaxed_4_pred,\n",
    "    cascade_true=cascade_k4p9_fb.CascadeK4P9Fb(ts=ts_detailed_12h, signal=signals.test_blocky),\n",
    "    parameters_true=cascade_k4p9_fb.parameters_default,\n",
    "    annotate_measured_steps=[4],\n",
    ")\n",
    "\n",
    "save_and_show(fig, './figures-manuscript/fig-4a-K4-pred-blocky.svg')"
   ]
  },
  {
   "cell_type": "markdown",
   "id": "ec99c577",
   "metadata": {},
   "source": [
    "## Figure 4B. Prediction on blocky, measure 1+2+3+4"
   ]
  },
  {
   "cell_type": "code",
   "execution_count": null,
   "id": "42fea48a",
   "metadata": {},
   "outputs": [],
   "source": [
    "%%time\n",
    "fig, axs = figure_cascade_prediction(\n",
    "    cascade_k4p11_fb.CascadeK4P11Fb(ts=ts_detailed_12h, signal=signals.test_blocky),\n",
    "    samples_relaxed_1234_pred,\n",
    "    cascade_true=cascade_k4p9_fb.CascadeK4P9Fb(ts=ts_detailed_12h, signal=signals.test_blocky),\n",
    "    parameters_true=cascade_k4p9_fb.parameters_default,\n",
    "    annotate_measured_steps=[1, 2, 3, 4],\n",
    ")\n",
    "\n",
    "save_and_show(fig, './figures-manuscript/fig-4b-K1234-pred-blocky.svg')"
   ]
  },
  {
   "cell_type": "markdown",
   "id": "d46aacd5",
   "metadata": {},
   "source": [
    "## Figure 4C. Histograms of feedbacks"
   ]
  },
  {
   "cell_type": "code",
   "execution_count": null,
   "id": "5abf4f38",
   "metadata": {},
   "outputs": [],
   "source": [
    "fig, axs = figure_histograms_cascade(\n",
    "    parameters_names=cascade_k4p11_fb.CascadeK4P11Fb(ts=ts_detailed_12h, signal=None).parameters_names,\n",
    "    samplings=[samples_relaxed_4, samples_relaxed_1234],\n",
    "    sampling_colors=[sampling_colors[0], sampling_colors[-1]],\n",
    "    feedback_param_shift=10.0,\n",
    "    select=lambda x: np.array(x)[..., -3:],\n",
    "    ylim_max=1.0,\n",
    ")\n",
    "\n",
    "save_and_show(fig, './figures-manuscript/fig-4c-hist-fs.svg')"
   ]
  },
  {
   "cell_type": "markdown",
   "id": "c1082ac7",
   "metadata": {},
   "source": [
    "# Figure 5. Simplified model (shorter cascade)"
   ]
  },
  {
   "cell_type": "code",
   "execution_count": null,
   "id": "38448fa7",
   "metadata": {},
   "outputs": [],
   "source": [
    "import identifiability.model.cascade_k2p5_fb as cascade_k2p5_fb"
   ]
  },
  {
   "cell_type": "code",
   "execution_count": null,
   "id": "38a56950",
   "metadata": {},
   "outputs": [],
   "source": [
    "samples_k2p5_fb_4 = load_samples('./cache/cascade_k2p5_fb_to_cascade_k4p9_fb_4h_measure_4.pkl')\n",
    "samples_k2p5_fb_4_pred = subsample_for_pred(samples_k2p5_fb_4)"
   ]
  },
  {
   "cell_type": "code",
   "execution_count": null,
   "id": "8f34d7d9",
   "metadata": {},
   "outputs": [],
   "source": [
    "%%time\n",
    "fig, axs = figure_cascade_prediction(\n",
    "    cascade_k2p5_fb.CascadeK2P5Fb(ts=ts_detailed_12h, signal=signals.make_pulse_delayed(4)),\n",
    "    samples_k2p5_fb_4_pred,\n",
    "    cascade_true=cascade_k4p9_fb.CascadeK4P9Fb(ts=ts_detailed_12h, signal=signals.make_pulse_delayed(4)),\n",
    "    parameters_true=cascade_k4p9_fb.parameters_default,\n",
    "    show_steps=[1, 4],\n",
    "    scale_figure=2.0,\n",
    "    signal_type='train',\n",
    "    #annotate_measured_steps=[4],\n",
    ")\n",
    "\n",
    "save_and_show(fig, './figures-manuscript/fig-5a-K4-simplified-train.svg')"
   ]
  },
  {
   "cell_type": "code",
   "execution_count": null,
   "id": "cb110b63",
   "metadata": {
    "scrolled": false
   },
   "outputs": [],
   "source": [
    "%%time\n",
    "fig, axs = figure_cascade_prediction(\n",
    "    cascade_k2p5_fb.CascadeK2P5Fb(ts=ts_detailed_12h, signal=signals.test_blocky),\n",
    "    samples_k2p5_fb_4_pred,\n",
    "    cascade_true=cascade_k4p9_fb.CascadeK4P9Fb(ts=ts_detailed_12h, signal=signals.test_blocky),\n",
    "    parameters_true=cascade_k4p9_fb.parameters_default,\n",
    "    show_steps=[1, 4],\n",
    "    scale_figure=2.0,\n",
    "    annotate_measured_steps=[4],\n",
    ")\n",
    "\n",
    "save_and_show(fig, './figures-manuscript/fig-5b-K4-simplified-pred-blocky.svg')"
   ]
  },
  {
   "cell_type": "code",
   "execution_count": null,
   "id": "f1c76bbc",
   "metadata": {},
   "outputs": [],
   "source": [
    "fig, axs = figure_histograms_cascade(\n",
    "    parameters_names=cascade_k2p5_fb.CascadeK2P5Fb(ts=ts_detailed_12h, signal=None).parameters_names,\n",
    "    samplings=[samples_k2p5_fb_4],\n",
    "    horizontal=True,\n",
    ")\n",
    "\n",
    "save_and_show(fig, './figures-manuscript/fig-5c-simplified-hists.svg')"
   ]
  },
  {
   "cell_type": "code",
   "execution_count": null,
   "id": "64fbe64f",
   "metadata": {},
   "outputs": [],
   "source": [
    "%%time\n",
    "fig, axs = figure_cascade_prediction(\n",
    "    cascade_k2p5_fb.CascadeK2P5Fb(ts=ts_detailed_12h, signal=signals.test_wiggly),\n",
    "    samples_k2p5_fb_4_pred,\n",
    "    cascade_true=cascade_k4p9_fb.CascadeK4P9Fb(ts=ts_detailed_12h, signal=signals.test_wiggly),\n",
    "    parameters_true=cascade_k4p9_fb.parameters_default,\n",
    "    show_steps=[4],\n",
    "    scale_figure=2.0,\n",
    "    annotate_measured_steps=[4],\n",
    ")\n",
    "\n",
    "save_and_show(fig, './figures-internal/fig-5d-K4-simplified-pred-wiggly.svg')"
   ]
  },
  {
   "cell_type": "markdown",
   "id": "64e79ebc",
   "metadata": {},
   "source": [
    "# Appendix I."
   ]
  },
  {
   "cell_type": "markdown",
   "id": "8c44801a",
   "metadata": {},
   "source": [
    "# Figure S1. Eigenvectors"
   ]
  },
  {
   "cell_type": "code",
   "execution_count": null,
   "id": "f090a085",
   "metadata": {},
   "outputs": [],
   "source": [
    "fig, axs = subplots_from_axsize(\n",
    "    axsize=(2.0, 0.8),\n",
    "    nrows=4, ncols=2,\n",
    "    hspace=[0.4, 0.4, 0.2],\n",
    "    wspace=0.2,\n",
    ")\n",
    "\n",
    "plot_eigenvector(axs[0, 0], samples_pca(samples_4)[-1])\n",
    "axs[0, 1].set_axis_off()\n",
    "\n",
    "plot_eigenvector(axs[1, 0], samples_pca(samples_24)[-1])\n",
    "plot_eigenvector(axs[1, 1], samples_pca(samples_24)[-2])\n",
    "\n",
    "plot_eigenvector(axs[2, 0], samples_pca(samples_1234)[-1])\n",
    "plot_eigenvector(axs[2, 1], samples_pca(samples_1234)[-2])\n",
    "plot_eigenvector(axs[3, 0], samples_pca(samples_1234)[-3])\n",
    "plot_eigenvector(axs[3, 1], samples_pca(samples_1234)[-4])\n",
    "\n",
    "save_and_show(fig, './figures-manuscript/supp-fig-s1a-eigenvectors.svg')"
   ]
  },
  {
   "cell_type": "code",
   "execution_count": null,
   "id": "dd0e8f4e",
   "metadata": {},
   "outputs": [],
   "source": [
    "ws_24 = disentangle_vectors(\n",
    "    vs=jnp.array(samples_pca(samples_24)[-2:]),\n",
    "    mask=jnp.array([\n",
    "        [0., 0., 0., 0., 1., 1., 1., 1., 0.],\n",
    "        [1., 1., 1., 1., 0., 0., 0., 0., 0.],\n",
    "    ])\n",
    ")\n",
    "\n",
    "ws_1234 = disentangle_vectors(\n",
    "    vs=jnp.array(samples_pca(samples_1234)[-4:]),\n",
    "    mask=jnp.array([\n",
    "        [0., 0., 1., 1., 1., 1., 1., 1., 0.],\n",
    "        [1., 1., 0., 0., 1., 1., 1., 1., 0.],\n",
    "        [1., 1., 1., 1., 0., 0., 1., 1., 0.],\n",
    "        [1., 1., 1., 1., 1., 1., 0., 0., 0.],\n",
    "    ])\n",
    ")"
   ]
  },
  {
   "cell_type": "code",
   "execution_count": null,
   "id": "591ba48b",
   "metadata": {},
   "outputs": [],
   "source": [
    "fig, axs = subplots_from_axsize(\n",
    "    axsize=(2.0, 0.8),\n",
    "    nrows=4, ncols=2,\n",
    "    hspace=[0.4, 0.4, 0.2],\n",
    "    wspace=0.2,\n",
    ")\n",
    "\n",
    "v1 = samples_pca(samples_4)[-1]\n",
    "plot_eigenvector(axs[0, 0], v1)\n",
    "axs[0, 1].set_axis_off()\n",
    "\n",
    "plot_eigenvector(axs[1, 0], ws_24[0])\n",
    "plot_eigenvector(axs[1, 1], ws_24[1])\n",
    "\n",
    "plot_eigenvector(axs[2, 0], ws_1234[0])\n",
    "plot_eigenvector(axs[2, 1], ws_1234[1])\n",
    "plot_eigenvector(axs[3, 0], ws_1234[2])\n",
    "plot_eigenvector(axs[3, 1], ws_1234[3])\n",
    "\n",
    "save_and_show(fig, './figures-manuscript/supp-fig-s1b-disentangled.svg')"
   ]
  },
  {
   "cell_type": "markdown",
   "id": "2a3afb38",
   "metadata": {},
   "source": [
    "# Appendix II. Pitfalls"
   ]
  },
  {
   "cell_type": "markdown",
   "id": "68706f6a",
   "metadata": {},
   "source": [
    "## Wrong training (pulse too short)"
   ]
  },
  {
   "cell_type": "code",
   "execution_count": null,
   "id": "7285968a",
   "metadata": {},
   "outputs": [],
   "source": [
    "samples_short_4, samples_short_1234 = map(load_samples, [\n",
    "    './cache/cascade_k4p9_fb_self_1h_measure_4.pkl',\n",
    "    './cache/cascade_k4p9_fb_self_1h_measure_1+2+3+4.pkl',\n",
    "])\n",
    "\n",
    "samples_short_4_pred, samples_short_1234_pred = map(subsample_for_pred,\n",
    "    [samples_short_4, samples_short_1234]\n",
    ")"
   ]
  },
  {
   "cell_type": "code",
   "execution_count": null,
   "id": "2d7e4417",
   "metadata": {},
   "outputs": [],
   "source": [
    "fig, axs = figure_cascade_training(\n",
    "    cascade_k4p9_fb.CascadeK4P9Fb(ts=ts_train_default+1, signal=signals.make_pulse_delayed(1)),\n",
    "    cascade_k4p9_fb.parameters_default,\n",
    ")\n",
    "axs[0, 0].set_title(\"training data\", color=color_note, pad=12)\n",
    "\n",
    "save_and_show(fig, './figures-manuscript/supp-fig-s2a-training-data-short.svg')"
   ]
  },
  {
   "cell_type": "code",
   "execution_count": null,
   "id": "02ede35e",
   "metadata": {},
   "outputs": [],
   "source": [
    "%%time\n",
    "fig, axs = figure_cascade_prediction(\n",
    "    cascade_k4p9_fb.CascadeK4P9Fb(ts=ts_detailed_12h, signal=signals.test_blocky),\n",
    "    samples_short_4_pred,\n",
    "    parameters_true=cascade_k4p9_fb.parameters_default,\n",
    "    annotate_measured_steps=[4],\n",
    ")\n",
    "\n",
    "save_and_show(fig, './figures-manuscript/supp-fig-s2b-K4-short-pred-blocky.svg')"
   ]
  },
  {
   "cell_type": "code",
   "execution_count": null,
   "id": "eb8c17d3",
   "metadata": {},
   "outputs": [],
   "source": [
    "%%time\n",
    "fig, axs = figure_cascade_prediction(\n",
    "    cascade_k4p9_fb.CascadeK4P9Fb(ts=ts_detailed_12h, signal=signals.test_blocky),\n",
    "    samples_short_1234_pred,\n",
    "    parameters_true=cascade_k4p9_fb.parameters_default,\n",
    "    annotate_measured_steps=[1, 2, 3, 4],\n",
    ")\n",
    "\n",
    "save_and_show(fig, './figures-manuscript/supp-fig-s2c-K1234-short-pred-blocky.svg')"
   ]
  },
  {
   "cell_type": "code",
   "execution_count": null,
   "id": "45f646ca",
   "metadata": {},
   "outputs": [],
   "source": [
    "fig, axs = figure_pca(\n",
    "    [samples_short_1234, samples_1234],\n",
    "    sampling_colors=['limegreen', sampling_colors[-1]],\n",
    ")\n",
    "save_and_show(fig, './figures-manuscript/supp-fig-s2d-pca.svg')"
   ]
  },
  {
   "cell_type": "markdown",
   "id": "e4cb52ea",
   "metadata": {},
   "source": [
    "## Wrong training & simplified model!"
   ]
  },
  {
   "cell_type": "code",
   "execution_count": null,
   "id": "d36a6079",
   "metadata": {},
   "outputs": [],
   "source": [
    "samples_short_simplified_4, = map(load_samples, [\n",
    "    './cache/cascade_k2p5_fb_to_cascade_k4p9_fb_1h_measure_4.pkl',\n",
    "])\n",
    "\n",
    "samples_short_simplified_4_pred, = map(subsample_for_pred,\n",
    "    [samples_short_simplified_4, ]\n",
    ")"
   ]
  },
  {
   "cell_type": "code",
   "execution_count": null,
   "id": "0c5b0104",
   "metadata": {},
   "outputs": [],
   "source": [
    "%%time\n",
    "fig, axs = figure_cascade_prediction(\n",
    "    cascade_k2p5_fb.CascadeK2P5Fb(ts=ts_detailed_12h, signal=signals.make_pulse_delayed(1)),\n",
    "    samples_short_simplified_4,\n",
    "    cascade_true=cascade_k4p9_fb.CascadeK4P9Fb(ts=ts_detailed_12h, signal=signals.make_pulse_delayed(1)),\n",
    "    parameters_true=cascade_k4p9_fb.parameters_default,\n",
    "    annotate_measured_steps=[4],\n",
    "    show_steps=[4],\n",
    "    scale_figure=2.0,\n",
    "    signal_type='train',\n",
    ")\n",
    "\n",
    "save_and_show(fig, './figures-internal/supp-fig-s?a-K4-short-simplified-train.svg')"
   ]
  },
  {
   "cell_type": "code",
   "execution_count": null,
   "id": "62674fd2",
   "metadata": {},
   "outputs": [],
   "source": [
    "%%time\n",
    "fig, axs = figure_cascade_prediction(\n",
    "    cascade_k2p5_fb.CascadeK2P5Fb(ts=ts_detailed_12h, signal=signals.test_blocky),\n",
    "    samples_short_simplified_4,\n",
    "    cascade_true=cascade_k4p9_fb.CascadeK4P9Fb(ts=ts_detailed_12h, signal=signals.test_blocky),\n",
    "    parameters_true=cascade_k4p9_fb.parameters_default,\n",
    "    annotate_measured_steps=[4],\n",
    "    show_steps=[4],\n",
    "    scale_figure=2.0,\n",
    ")\n",
    "\n",
    "save_and_show(fig, './figures-internal/supp-fig-s?b-K4-short-simplified-pred-blocky.svg')"
   ]
  },
  {
   "cell_type": "markdown",
   "id": "e0bf11d0",
   "metadata": {},
   "source": [
    "## Wrong model (no feedback)"
   ]
  },
  {
   "cell_type": "code",
   "execution_count": null,
   "id": "be4c73c7",
   "metadata": {},
   "outputs": [],
   "source": [
    "import identifiability.model.cascade_k4p8 as cascade_k4p8"
   ]
  },
  {
   "cell_type": "code",
   "execution_count": null,
   "id": "c4d5eb15",
   "metadata": {},
   "outputs": [],
   "source": [
    "samples_k4p8_4, samples_k4p8_1234 = map(load_samples, [\n",
    "    './cache/cascade_k4p8_to_cascade_k4p9_fb_4h_measure_4.pkl',\n",
    "    './cache/cascade_k4p8_to_cascade_k4p9_fb_4h_measure_1+2+3+4.pkl',\n",
    "])\n",
    "\n",
    "samples_k4p8_4_pred, samples_k4p8_1234_pred = map(subsample_for_pred,\n",
    "    [samples_k4p8_4, samples_k4p8_1234]\n",
    ")"
   ]
  },
  {
   "cell_type": "code",
   "execution_count": null,
   "id": "fb4e227e",
   "metadata": {},
   "outputs": [],
   "source": [
    "%%time\n",
    "fig, axs = figure_cascade_prediction(\n",
    "    cascade_k4p8.CascadeK4P8(ts=ts_detailed_12h, signal=signals.make_pulse_delayed(4)),\n",
    "    samples_k4p8_4_pred,\n",
    "    cascade_true=cascade_k4p9_fb.CascadeK4P9Fb(ts=ts_detailed_12h, signal=signals.make_pulse_delayed(4)),\n",
    "    parameters_true=cascade_k4p9_fb.parameters_default,\n",
    "    annotate_measured_steps=[4],\n",
    "    signal_type='train',\n",
    ")\n",
    "\n",
    "save_and_show(fig, './figures-manuscript/supp-fig-s3a-K4-wrong-train.svg')"
   ]
  },
  {
   "cell_type": "code",
   "execution_count": null,
   "id": "bb510a1c",
   "metadata": {},
   "outputs": [],
   "source": [
    "%%time\n",
    "fig, axs = figure_cascade_prediction(\n",
    "    cascade_k4p8.CascadeK4P8(ts=ts_detailed_12h, signal=signals.test_blocky),\n",
    "    samples_k4p8_4_pred,\n",
    "    cascade_true=cascade_k4p9_fb.CascadeK4P9Fb(ts=ts_detailed_12h, signal=signals.test_blocky),\n",
    "    parameters_true=cascade_k4p9_fb.parameters_default,\n",
    "    annotate_measured_steps=[4],\n",
    ")\n",
    "\n",
    "save_and_show(fig, './figures-manuscript/supp-fig-s3b-K4-wrong-pred-blocky.svg')"
   ]
  },
  {
   "cell_type": "code",
   "execution_count": null,
   "id": "4115b808",
   "metadata": {},
   "outputs": [],
   "source": [
    "%%time\n",
    "fig, axs = figure_cascade_prediction(\n",
    "    cascade_k4p8.CascadeK4P8(ts=ts_detailed_12h, signal=signals.make_pulse_delayed(4)),\n",
    "    samples_k4p8_1234_pred,\n",
    "    cascade_true=cascade_k4p9_fb.CascadeK4P9Fb(ts=ts_detailed_12h, signal=signals.make_pulse_delayed(4)),\n",
    "    parameters_true=cascade_k4p9_fb.parameters_default,\n",
    "    annotate_measured_steps=[1, 2, 3, 4],\n",
    "    signal_type='train',\n",
    ")\n",
    "\n",
    "save_and_show(fig, './figures-manuscript/supp-fig-s3c-K1234-wrong-train.svg')"
   ]
  },
  {
   "cell_type": "code",
   "execution_count": null,
   "id": "3c3e278b",
   "metadata": {},
   "outputs": [],
   "source": [
    "%%time\n",
    "fig, axs = figure_cascade_prediction(\n",
    "    cascade_k4p8.CascadeK4P8(ts=ts_detailed_12h, signal=signals.test_blocky),\n",
    "    samples_k4p8_1234_pred,\n",
    "    cascade_true=cascade_k4p9_fb.CascadeK4P9Fb(ts=ts_detailed_12h, signal=signals.test_blocky),\n",
    "    parameters_true=cascade_k4p9_fb.parameters_default,\n",
    "    annotate_measured_steps=[1, 2, 3, 4],\n",
    ")\n",
    "\n",
    "save_and_show(fig, './figures-manuscript/supp-fig-s3b-K1234-wrong-pred-blocky.svg')"
   ]
  },
  {
   "cell_type": "code",
   "execution_count": null,
   "id": "aa972351",
   "metadata": {},
   "outputs": [],
   "source": [
    "kwargs=dict(\n",
    "    parameters_names=cascade_k4p8.CascadeK4P8(ts=ts_detailed_12h, signal=None).parameters_names,\n",
    "    samplings=[samples_k4p8_4, samples_k4p8_1234],\n",
    "    sampling_colors=[sampling_colors[0], sampling_colors[-1]],\n",
    "    horizontal=True,\n",
    "    wspace=0.25,\n",
    ")\n",
    "\n",
    "fig, axs = figure_histograms_cascade(\n",
    "    **kwargs, select=lambda x: np.array(x)[..., 0::2],\n",
    ")\n",
    "save_and_show(fig, './figures-manuscript/supp-fig-s3c1-hist-as.svg')\n",
    "\n",
    "fig, axs = figure_histograms_cascade(\n",
    "    **kwargs, select=lambda x: np.array(x)[..., 1::2],\n",
    ")\n",
    "save_and_show(fig, './figures-manuscript/supp-fig-s3c2-hist-ds.svg')"
   ]
  },
  {
   "cell_type": "markdown",
   "id": "3a7987b6",
   "metadata": {},
   "source": [
    "# Springs"
   ]
  },
  {
   "cell_type": "code",
   "execution_count": null,
   "id": "fc76a844",
   "metadata": {},
   "outputs": [],
   "source": [
    "import identifiability.model.springs as springs\n",
    "\n",
    "springs_parameters_true = springs.parameters_default\n",
    "\n",
    "#springs_ts_train = jnp.linspace(0, 40, 41)\n",
    "springs_ts_train_detailed = jnp.linspace(0, 50, 201)\n",
    "springs_signal_train = lambda t: -0.2 * (t >= 10) * (t < 20)\n",
    "\n",
    "springs_ts_test = jnp.linspace(0, 190, 301)\n",
    "springs_signal_test = lambda t: -0.2 * jnp.sin((t - 10) * jnp.pi / 20) * (t >= 10)"
   ]
  },
  {
   "cell_type": "markdown",
   "id": "9562d348",
   "metadata": {},
   "source": [
    "## Figure 6"
   ]
  },
  {
   "cell_type": "code",
   "execution_count": null,
   "id": "1fef9d09",
   "metadata": {},
   "outputs": [],
   "source": [
    "samples_springs_3, samples_springs_123 = map(load_samples, [\n",
    "    './cache/springs_measure_3.pkl',\n",
    "    './cache/springs_measure_1+2+3.pkl',\n",
    "])\n",
    "\n",
    "samples_springs_3_pred, samples_springs_123_pred = map(subsample_for_pred,\n",
    "    [samples_springs_3, samples_springs_123]\n",
    ")"
   ]
  },
  {
   "cell_type": "code",
   "execution_count": null,
   "id": "8a48d5f0",
   "metadata": {},
   "outputs": [],
   "source": [
    "%%time\n",
    "fig, axs = figure_springs_prediction(\n",
    "    springs.SpringsModel(ts=springs_ts_train_detailed, signal=springs_signal_train),\n",
    "    samples_springs_3_pred,\n",
    "    parameters_true=springs_parameters_true,\n",
    "    signal_type='train',\n",
    ")\n",
    "\n",
    "save_and_show(fig, './figures-manuscript/fig-6a-M3-train.svg')"
   ]
  },
  {
   "cell_type": "code",
   "execution_count": null,
   "id": "33a8ee96",
   "metadata": {},
   "outputs": [],
   "source": [
    "%%time\n",
    "fig, axs = figure_springs_prediction(\n",
    "    springs.SpringsModel(ts=springs_ts_test, signal=springs_signal_test),\n",
    "    samples_springs_3_pred,\n",
    "    parameters_true=springs_parameters_true,\n",
    ")\n",
    "\n",
    "save_and_show(fig, './figures-manuscript/fig-6b-M3-pred.svg')"
   ]
  },
  {
   "cell_type": "code",
   "execution_count": null,
   "id": "05c2f760",
   "metadata": {},
   "outputs": [],
   "source": [
    "%%time\n",
    "fig, axs = figure_springs_prediction(\n",
    "    springs.SpringsModel(ts=springs_ts_train_detailed, signal=springs_signal_train),\n",
    "    samples_springs_123_pred,\n",
    "    parameters_true=springs_parameters_true,\n",
    "    signal_type='train',\n",
    ")\n",
    "\n",
    "save_and_show(fig, './figures-manuscript/fig-6c-M123-train.svg')"
   ]
  },
  {
   "cell_type": "code",
   "execution_count": null,
   "id": "0bd98e74",
   "metadata": {},
   "outputs": [],
   "source": [
    "%%time\n",
    "fig, axs = figure_springs_prediction(\n",
    "    springs.SpringsModel(ts=springs_ts_test, signal=springs_signal_test),\n",
    "    samples_springs_123_pred,\n",
    "    parameters_true=springs_parameters_true,\n",
    ")\n",
    "\n",
    "save_and_show(fig, './figures-manuscript/fig-6d-M123-pred.svg')"
   ]
  },
  {
   "cell_type": "code",
   "execution_count": null,
   "id": "2430fbb5",
   "metadata": {},
   "outputs": [],
   "source": [
    "kwargs=dict(\n",
    "    parameters_names=springs.SpringsModel(ts=springs_ts_test, signal=springs_signal_test).parameters_names,\n",
    "    samplings=[samples_springs_3, samples_springs_123],\n",
    "    sampling_colors=[cascade_colors[-1], 'black'],\n",
    "    horizontal=True,\n",
    "    wspace=0.35,\n",
    ")\n",
    "\n",
    "fig, axs = figure_histograms_springs(\n",
    "    **kwargs, select=lambda x: np.array(x)[..., 0:3], ylim_max=1.0,\n",
    ")\n",
    "save_and_show(fig, './figures-manuscript/fig-6e1-hist-ms.svg')\n",
    "\n",
    "fig, axs = figure_histograms_springs(\n",
    "    **kwargs, select=lambda x: np.array(x)[..., 3:6], ylim_max=4.0,\n",
    ")\n",
    "save_and_show(fig, './figures-manuscript/fig-6e2-hist-bs.svg')\n",
    "\n",
    "fig, axs = figure_histograms_springs(\n",
    "    **kwargs, select=lambda x: np.array(x)[..., 6:8], ylim_max=4.0,\n",
    ")\n",
    "save_and_show(fig, './figures-manuscript/fig-6e3-hist-ks.svg')"
   ]
  }
 ],
 "metadata": {
  "kernelspec": {
   "display_name": "Python 3 (ipykernel)",
   "language": "python",
   "name": "python3"
  },
  "language_info": {
   "codemirror_mode": {
    "name": "ipython",
    "version": 3
   },
   "file_extension": ".py",
   "mimetype": "text/x-python",
   "name": "python",
   "nbconvert_exporter": "python",
   "pygments_lexer": "ipython3",
   "version": "3.11.3"
  }
 },
 "nbformat": 4,
 "nbformat_minor": 5
}
