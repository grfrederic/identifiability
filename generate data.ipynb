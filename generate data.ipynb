{
 "cells": [
  {
   "cell_type": "code",
   "execution_count": null,
   "id": "c6ac7b3c",
   "metadata": {},
   "outputs": [],
   "source": [
    "import pickle\n",
    "from pathlib import Path\n",
    "\n",
    "import numpy as np\n",
    "import matplotlib.pyplot as plt\n",
    "\n",
    "import jax\n",
    "import jax.numpy as jnp\n",
    "\n",
    "from identifiability import signals\n",
    "from identifiability import mcmc\n",
    "\n",
    "import identifiability.model.cascade_k4p9_fb as cascade_k4p9_fb\n",
    "import identifiability.model.cascade_k4p11_fb as cascade_k4p11_fb\n",
    "import identifiability.model.springs as springs"
   ]
  },
  {
   "cell_type": "code",
   "execution_count": null,
   "id": "bcce24c8",
   "metadata": {},
   "outputs": [],
   "source": [
    "!mkdir -p ./cache"
   ]
  },
  {
   "cell_type": "markdown",
   "id": "32cac913",
   "metadata": {},
   "source": [
    "# plot utils"
   ]
  },
  {
   "cell_type": "code",
   "execution_count": null,
   "id": "b937aade",
   "metadata": {},
   "outputs": [],
   "source": [
    "def plot_fit(\n",
    "    samples_by_chain,\n",
    "    parameters_names,\n",
    "    hist_range=None,\n",
    "    hist_ylim=(0, 2),\n",
    "):\n",
    "    nrows = len(parameters_names)\n",
    "    fig, axs = plt.subplots(nrows=nrows, ncols=2, figsize=(8, 2 * nrows))\n",
    "    \n",
    "    axs[0, 0].set_title('histograms')\n",
    "    axs[0, 1].set_title('chains')\n",
    "\n",
    "    for i, (param_name, row) in enumerate(zip(parameters_names, axs)):\n",
    "        ax = row[0]\n",
    "        ax.set_ylabel(param_name)\n",
    "        ax.hist(\n",
    "            np.asarray(samples_by_chain[..., i]).reshape(-1),\n",
    "            density=True,\n",
    "            range=hist_range,\n",
    "            bins=75,\n",
    "            color='black',\n",
    "        )\n",
    "        if hist_ylim is not None:\n",
    "            ax.set_ylim(hist_ylim)\n",
    "\n",
    "        ax = row[1]\n",
    "        for chain in samples_by_chain:\n",
    "            ax.plot(chain[..., i], alpha=0.3)"
   ]
  },
  {
   "cell_type": "markdown",
   "id": "647124c7",
   "metadata": {},
   "source": [
    "# mcmc utils"
   ]
  },
  {
   "cell_type": "code",
   "execution_count": null,
   "id": "5fe1d41a",
   "metadata": {},
   "outputs": [],
   "source": [
    "speed_up = 1  # 10, 4\n",
    "\n",
    "mcmc_kwargs = dict(\n",
    "    num_chains=8,\n",
    "    num_steps=(1_250_000 + 250_000) // speed_up,\n",
    "    num_burn_in=250_000 // speed_up,\n",
    "    thinning=1000 // speed_up,\n",
    "    seed=1,\n",
    ")"
   ]
  },
  {
   "cell_type": "code",
   "execution_count": null,
   "id": "db805691",
   "metadata": {},
   "outputs": [],
   "source": [
    "def _fit_models(\n",
    "    model_train, parameters_train,\n",
    "    model_fit, parameters_init,\n",
    "    measure=lambda ys: ys,\n",
    "    measurement_error=0.3,\n",
    "    num_measurements=3,\n",
    "    measurement_seed=42,\n",
    "    sigma=None,\n",
    "    log_reparam=True,\n",
    "):\n",
    "    # generate measurements\n",
    "    ys_train_raw = model_train.run(parameters_train)\n",
    "    ys_train_shape = (num_measurements, *ys_train_raw.shape)\n",
    "    key = jax.random.PRNGKey(measurement_seed)\n",
    "    ys_train = ys_train_raw[None] + measurement_error * jax.random.normal(key, shape=ys_train_shape)\n",
    "    \n",
    "    if sigma is None:\n",
    "        sigma = jnp.full_like(parameters_init, 0.2)\n",
    "        \n",
    "    if log_reparam:\n",
    "        enc = jnp.log\n",
    "        dec = jnp.exp\n",
    "    else:\n",
    "        enc = lambda x: x\n",
    "        dec = lambda x: x\n",
    "    \n",
    "    def cond_log_prob(parameters):\n",
    "        ys = model_fit.run(parameters)[None]\n",
    "        return mcmc.normal_error_log_prob(\n",
    "            measure(ys_train),\n",
    "            measure(ys),\n",
    "            sigma=measurement_error,\n",
    "        )\n",
    "\n",
    "    log_prob_fn = mcmc.make_safe_log_prob_fn(model_fit.prior_log_prob, cond_log_prob)\n",
    "\n",
    "    # sample in logs\n",
    "    rep_log_prob_fn = lambda encoded_params: log_prob_fn(dec(encoded_params))\n",
    "    rep_parameters_init = enc(parameters_init)\n",
    "\n",
    "    print(\"Starting MCMC...\")\n",
    "    rep_samples_by_chain, log_prob_by_chain = mcmc.run_mcmc(\n",
    "        parameters_init=rep_parameters_init,\n",
    "        log_prob_fn=rep_log_prob_fn,\n",
    "        sigma=sigma,\n",
    "        **mcmc_kwargs,\n",
    "    )\n",
    "\n",
    "    # undo log reparametrization\n",
    "    samples_by_chain = dec(rep_samples_by_chain)\n",
    "\n",
    "    return samples_by_chain, log_prob_by_chain\n",
    "\n",
    "\n",
    "def fit_models(\n",
    "    model_train, parameters_train,\n",
    "    model_fit, parameters_init,\n",
    "    measure=lambda ys: ys,\n",
    "    measurement_error=0.3,\n",
    "    num_measurements=3,\n",
    "    measurement_seed=42,\n",
    "    sigma=None,\n",
    "    log_reparam=True,\n",
    "    cache_path=None,\n",
    "    try_load=True,\n",
    "):        \n",
    "    if cache_path is not None:\n",
    "        cache_path = Path(cache_path)\n",
    "    else:\n",
    "        try_load = False\n",
    "\n",
    "    if try_load and cache_path.exists():\n",
    "        print(f\"\\nLoading samples from: '{cache_path}'\")\n",
    "        with open(cache_path, 'rb') as handle:\n",
    "            data = pickle.load(handle)\n",
    "            samples_by_chain = data['samples_by_chain']\n",
    "            log_prob_by_chain = data['log_prob_by_chain']\n",
    "\n",
    "    else:\n",
    "        samples_by_chain, log_prob_by_chain = _fit_models(\n",
    "            model_train, parameters_train,\n",
    "            model_fit, parameters_init,\n",
    "            measure=measure,\n",
    "            measurement_error=measurement_error,\n",
    "            num_measurements=num_measurements,\n",
    "            measurement_seed=measurement_seed,\n",
    "            sigma=sigma,\n",
    "            log_reparam=log_reparam,\n",
    "        )\n",
    "        \n",
    "        if cache_path is not None:\n",
    "            print(f\"\\nSaving samples to: '{cache_path}'\")\n",
    "            with open(cache_path, 'wb') as handle:\n",
    "                pickle.dump({\n",
    "                    'samples_by_chain': samples_by_chain,\n",
    "                    'log_prob_by_chain': log_prob_by_chain,\n",
    "                }, handle)\n",
    "\n",
    "    rep_samples_by_chain = np.log(samples_by_chain) if log_reparam else samples_by_chain\n",
    "    print(\"\\nSample stats:\")\n",
    "    mcmc.mcmc_report(rep_samples_by_chain, model_fit.parameters_names)\n",
    "    \n",
    "    plot_fit(\n",
    "        rep_samples_by_chain,\n",
    "        [f\"{'log ' if log_reparam else ''}{p}\" for p in model_fit.parameters_names],\n",
    "        hist_range=(-10, 17),\n",
    "        hist_ylim=(0.0, 2.0),\n",
    "    )\n",
    "\n",
    "    return samples_by_chain, log_prob_by_chain"
   ]
  },
  {
   "cell_type": "markdown",
   "id": "9b280071",
   "metadata": {},
   "source": [
    "# common for cascades"
   ]
  },
  {
   "cell_type": "code",
   "execution_count": null,
   "id": "dcf30857",
   "metadata": {},
   "outputs": [],
   "source": [
    "ts_train_default = jnp.linspace(0, 11, 12)\n",
    "ts_train_short = ts_train_default  # for short (1h) pulse use the same measurement times"
   ]
  },
  {
   "cell_type": "markdown",
   "id": "1573a984",
   "metadata": {},
   "source": [
    "# Figures 1–2 (nominal cascade)\n",
    "## fit k4p9_fb to k4p9_fb, 4h signal"
   ]
  },
  {
   "cell_type": "markdown",
   "id": "94214120",
   "metadata": {},
   "source": [
    "## measure=4"
   ]
  },
  {
   "cell_type": "code",
   "execution_count": null,
   "id": "f6ff7743",
   "metadata": {},
   "outputs": [],
   "source": [
    "ts_train = ts_train_default\n",
    "signal_train = signals.make_pulse(4)\n",
    "\n",
    "samples_by_chain, log_prob_by_chain = fit_models(\n",
    "    model_train=cascade_k4p9_fb.CascadeK4P9Fb(ts=ts_train, signal=signal_train),\n",
    "    parameters_train=cascade_k4p9_fb.parameters_default,\n",
    "\n",
    "    model_fit=cascade_k4p9_fb.CascadeK4P9Fb(ts=ts_train, signal=signal_train),\n",
    "    parameters_init=cascade_k4p9_fb.parameters_median,\n",
    "\n",
    "    measure=lambda ys: ys[..., -1],\n",
    "\n",
    "    cache_path='./cache/cascade_k4p9_fb_self_4h_measure_4.pkl',\n",
    ")"
   ]
  },
  {
   "cell_type": "markdown",
   "id": "eb66bbb2",
   "metadata": {},
   "source": [
    "## measure=2,4"
   ]
  },
  {
   "cell_type": "code",
   "execution_count": null,
   "id": "6d999d5f",
   "metadata": {},
   "outputs": [],
   "source": [
    "ts_train = ts_train_default\n",
    "signal_train = signals.make_pulse(4)\n",
    "\n",
    "samples_by_chain, log_prob_by_chain = fit_models(\n",
    "    model_train=cascade_k4p9_fb.CascadeK4P9Fb(ts=ts_train, signal=signal_train),\n",
    "    parameters_train=cascade_k4p9_fb.parameters_default,\n",
    "\n",
    "    model_fit=cascade_k4p9_fb.CascadeK4P9Fb(ts=ts_train, signal=signal_train),\n",
    "    parameters_init=cascade_k4p9_fb.parameters_median,\n",
    "\n",
    "    measure=lambda ys: ys[..., 1::2],\n",
    "\n",
    "    cache_path='./cache/cascade_k4p9_fb_self_4h_measure_2+4.pkl',\n",
    ")"
   ]
  },
  {
   "cell_type": "markdown",
   "id": "bfeadd8d",
   "metadata": {},
   "source": [
    "## measure=1,2,3,4"
   ]
  },
  {
   "cell_type": "code",
   "execution_count": null,
   "id": "d87f8ea3",
   "metadata": {},
   "outputs": [],
   "source": [
    "ts_train = ts_train_default\n",
    "signal_train = signals.make_pulse(4)\n",
    "\n",
    "samples_by_chain, log_prob_by_chain = fit_models(\n",
    "    model_train=cascade_k4p9_fb.CascadeK4P9Fb(ts=ts_train, signal=signal_train),\n",
    "    parameters_train=cascade_k4p9_fb.parameters_default,\n",
    "\n",
    "    model_fit=cascade_k4p9_fb.CascadeK4P9Fb(ts=ts_train, signal=signal_train),\n",
    "    parameters_init=cascade_k4p9_fb.parameters_median,\n",
    "\n",
    "    measure=lambda ys: ys,\n",
    "\n",
    "    cache_path='./cache/cascade_k4p9_fb_self_4h_measure_1+2+3+4.pkl',\n",
    ")"
   ]
  },
  {
   "cell_type": "markdown",
   "id": "6d42ecec",
   "metadata": {},
   "source": [
    "# Figure 3 (relaxed cascade)\n",
    "## fit k4p11_fb to k4p9_fb, 4h signal"
   ]
  },
  {
   "cell_type": "markdown",
   "id": "e7c3d8af",
   "metadata": {},
   "source": [
    "## measure=4"
   ]
  },
  {
   "cell_type": "code",
   "execution_count": null,
   "id": "3fdb37de",
   "metadata": {
    "scrolled": false
   },
   "outputs": [],
   "source": [
    "ts_train = ts_train_default\n",
    "signal_train = signals.make_pulse(4)\n",
    "\n",
    "samples_by_chain, log_prob_by_chain = fit_models(\n",
    "    model_train=cascade_k4p9_fb.CascadeK4P9Fb(ts=ts_train, signal=signal_train),\n",
    "    parameters_train=cascade_k4p9_fb.parameters_default,\n",
    "\n",
    "    model_fit=cascade_k4p11_fb.CascadeK4P11Fb(ts=ts_train, signal=signal_train),\n",
    "    parameters_init=cascade_k4p11_fb.parameters_median,\n",
    "\n",
    "    measure=lambda ys: ys[..., -1],\n",
    "\n",
    "    cache_path='./cache/cascade_k4p11_fb_to_cascade_k4p9_fb_4h_measure_4.pkl',\n",
    ")"
   ]
  },
  {
   "cell_type": "markdown",
   "id": "49854154",
   "metadata": {},
   "source": [
    "## measure=1,2,3,4"
   ]
  },
  {
   "cell_type": "code",
   "execution_count": null,
   "id": "9b4b13f3",
   "metadata": {
    "scrolled": false
   },
   "outputs": [],
   "source": [
    "ts_train = ts_train_default\n",
    "signal_train = signals.make_pulse(4)\n",
    "\n",
    "samples_by_chain, log_prob_by_chain = fit_models(\n",
    "    model_train=cascade_k4p9_fb.CascadeK4P9Fb(ts=ts_train, signal=signal_train),\n",
    "    parameters_train=cascade_k4p9_fb.parameters_default,\n",
    "\n",
    "    model_fit=cascade_k4p11_fb.CascadeK4P11Fb(ts=ts_train, signal=signal_train),\n",
    "    parameters_init=cascade_k4p11_fb.parameters_median,\n",
    "\n",
    "    measure=lambda ys: ys,\n",
    "\n",
    "    cache_path='./cache/cascade_k4p11_fb_to_cascade_k4p9_fb_4h_measure_1+2+3+4.pkl',\n",
    ")"
   ]
  },
  {
   "cell_type": "markdown",
   "id": "074cd943",
   "metadata": {},
   "source": [
    "# Figure 4 (simplified cascade)\n",
    "## fit k2p5_fb to k4p9_fb, 4h signal"
   ]
  },
  {
   "cell_type": "code",
   "execution_count": null,
   "id": "805c0e4c",
   "metadata": {},
   "outputs": [],
   "source": [
    "import identifiability.model.cascade_k2p5_fb as cascade_k2p5_fb"
   ]
  },
  {
   "cell_type": "code",
   "execution_count": null,
   "id": "e406ace1",
   "metadata": {},
   "outputs": [],
   "source": [
    "ts_train = ts_train_default\n",
    "signal_train = signals.make_pulse(4)\n",
    "\n",
    "samples_by_chain, log_prob_by_chain = fit_models(\n",
    "    model_train=cascade_k4p9_fb.CascadeK4P9Fb(ts=ts_train, signal=signal_train),\n",
    "    parameters_train=cascade_k4p9_fb.parameters_default,\n",
    "\n",
    "    model_fit=cascade_k2p5_fb.CascadeK2P5Fb(ts=ts_train, signal=signal_train),\n",
    "    parameters_init=cascade_k2p5_fb.parameters_median,\n",
    "\n",
    "    measure=lambda ys: ys[..., -1],\n",
    "\n",
    "    cache_path='./cache/cascade_k2p5_fb_to_cascade_k4p9_fb_4h_measure_4.pkl',\n",
    ")"
   ]
  },
  {
   "cell_type": "markdown",
   "id": "82e4d9ac",
   "metadata": {},
   "source": [
    "# Appendix II. Pitfalls"
   ]
  },
  {
   "cell_type": "code",
   "execution_count": null,
   "id": "9e46ed1b",
   "metadata": {},
   "outputs": [],
   "source": [
    "import identifiability.model.cascade_k4p8 as cascade_k4p8"
   ]
  },
  {
   "cell_type": "markdown",
   "id": "a3da7bc3",
   "metadata": {},
   "source": [
    "## cascade_k4p9_fb, 1h signal (pulse too short)"
   ]
  },
  {
   "cell_type": "markdown",
   "id": "9a68ba28",
   "metadata": {},
   "source": [
    "### measure=4"
   ]
  },
  {
   "cell_type": "code",
   "execution_count": null,
   "id": "8cad5431",
   "metadata": {},
   "outputs": [],
   "source": [
    "ts_train = ts_train_short\n",
    "signal_train = signals.make_pulse(1)\n",
    "\n",
    "samples_by_chain, log_prob_by_chain = fit_models(\n",
    "    model_train=cascade_k4p9_fb.CascadeK4P9Fb(ts=ts_train, signal=signal_train),\n",
    "    parameters_train=cascade_k4p9_fb.parameters_default,\n",
    "\n",
    "    model_fit=cascade_k4p9_fb.CascadeK4P9Fb(ts=ts_train, signal=signal_train),\n",
    "    parameters_init=cascade_k4p9_fb.parameters_median,\n",
    "\n",
    "    measure=lambda ys: ys[..., -1],\n",
    "\n",
    "    cache_path='./cache/cascade_k4p9_fb_self_1h_measure_4.pkl',\n",
    ")"
   ]
  },
  {
   "cell_type": "markdown",
   "id": "2bbc7246",
   "metadata": {},
   "source": [
    "### measure=1,2,3,4"
   ]
  },
  {
   "cell_type": "code",
   "execution_count": null,
   "id": "8f04facc",
   "metadata": {},
   "outputs": [],
   "source": [
    "ts_train = ts_train_short\n",
    "signal_train = signals.make_pulse(1)\n",
    "\n",
    "samples_by_chain, log_prob_by_chain = fit_models(\n",
    "    model_train=cascade_k4p9_fb.CascadeK4P9Fb(ts=ts_train, signal=signal_train),\n",
    "    parameters_train=cascade_k4p9_fb.parameters_default,\n",
    "\n",
    "    model_fit=cascade_k4p9_fb.CascadeK4P9Fb(ts=ts_train, signal=signal_train),\n",
    "    parameters_init=cascade_k4p9_fb.parameters_median,\n",
    "\n",
    "    measure=lambda ys: ys,\n",
    "\n",
    "    cache_path='./cache/cascade_k4p9_fb_self_1h_measure_1+2+3+4.pkl',\n",
    ")"
   ]
  },
  {
   "cell_type": "markdown",
   "id": "4deb0c3f",
   "metadata": {},
   "source": [
    "## cascade_k4p8, 4h signal (wrong model)"
   ]
  },
  {
   "cell_type": "markdown",
   "id": "1c578610",
   "metadata": {},
   "source": [
    "### measure=1"
   ]
  },
  {
   "cell_type": "code",
   "execution_count": null,
   "id": "38d1b1b6",
   "metadata": {},
   "outputs": [],
   "source": [
    "ts_train = ts_train_default\n",
    "signal_train = signals.make_pulse(4)\n",
    "\n",
    "samples_by_chain, log_prob_by_chain = fit_models(\n",
    "    model_train=cascade_k4p9_fb.CascadeK4P9Fb(ts=ts_train, signal=signal_train),\n",
    "    parameters_train=cascade_k4p9_fb.parameters_default,\n",
    "\n",
    "    model_fit=cascade_k4p8.CascadeK4P8(ts=ts_train, signal=signal_train),\n",
    "    parameters_init=cascade_k4p8.parameters_median,\n",
    "\n",
    "    measure=lambda ys: ys[..., -1],\n",
    "\n",
    "    cache_path='./cache/cascade_k4p8_to_cascade_k4p9_fb_4h_measure_4.pkl',\n",
    ")"
   ]
  },
  {
   "cell_type": "markdown",
   "id": "6f08c427",
   "metadata": {},
   "source": [
    "### measure=1,2,3,4"
   ]
  },
  {
   "cell_type": "code",
   "execution_count": null,
   "id": "943bfb44",
   "metadata": {},
   "outputs": [],
   "source": [
    "ts_train = ts_train_default\n",
    "signal_train = signals.make_pulse(4)\n",
    "\n",
    "samples_by_chain, log_prob_by_chain = fit_models(\n",
    "    model_train=cascade_k4p9_fb.CascadeK4P9Fb(ts=ts_train, signal=signal_train),\n",
    "    parameters_train=cascade_k4p9_fb.parameters_default,\n",
    "\n",
    "    model_fit=cascade_k4p8.CascadeK4P8(ts=ts_train, signal=signal_train),\n",
    "    parameters_init=cascade_k4p8.parameters_median,\n",
    "\n",
    "    measure=lambda ys: ys,\n",
    "\n",
    "    cache_path='./cache/cascade_k4p8_to_cascade_k4p9_fb_4h_measure_1+2+3+4.pkl',\n",
    ")"
   ]
  },
  {
   "cell_type": "markdown",
   "id": "8c08518e",
   "metadata": {},
   "source": [
    "# Appendix I. Springs"
   ]
  },
  {
   "cell_type": "markdown",
   "id": "ed5baf9a",
   "metadata": {},
   "source": [
    "## measure=3"
   ]
  },
  {
   "cell_type": "code",
   "execution_count": null,
   "id": "f288bd08",
   "metadata": {},
   "outputs": [],
   "source": [
    "ts_train = jnp.linspace(0, 40, 41)\n",
    "signal_train = lambda t: -0.2 * (t < 10)\n",
    "sigma = jnp.array([1.0, 1.0, 1.0, 0.2, 0.2, 0.2, 0.4, 0.4])\n",
    "\n",
    "samples_by_chain, log_prob_by_chain = fit_models(\n",
    "    model_train=springs.SpringsModel(ts=ts_train, signal=signal_train),\n",
    "    parameters_train=springs.parameters_default,\n",
    "\n",
    "    model_fit=springs.SpringsModel(ts=ts_train, signal=signal_train),\n",
    "    parameters_init=springs.parameters_median,  # springs.parameters_default\n",
    "\n",
    "    measure=lambda ys: ys[..., -1],\n",
    "\n",
    "    cache_path='./cache/springs_measure_3.pkl',\n",
    "    \n",
    "    log_reparam=False,\n",
    "    sigma=sigma,\n",
    ")"
   ]
  },
  {
   "cell_type": "markdown",
   "id": "88c2d305",
   "metadata": {},
   "source": [
    "## measure=1,2,3"
   ]
  },
  {
   "cell_type": "code",
   "execution_count": null,
   "id": "7c9766b0",
   "metadata": {},
   "outputs": [],
   "source": [
    "ts_train = jnp.linspace(0, 40, 41)\n",
    "signal_train = lambda t: -0.2 * (t < 10)\n",
    "sigma = jnp.array([1.0, 1.0, 1.0, 0.2, 0.2, 0.2, 0.4, 0.4]) / 4\n",
    "\n",
    "samples_by_chain, log_prob_by_chain = fit_models(\n",
    "    model_train=springs.SpringsModel(ts=ts_train, signal=signal_train),\n",
    "    parameters_train=springs.parameters_default,\n",
    "\n",
    "    model_fit=springs.SpringsModel(ts=ts_train, signal=signal_train),\n",
    "    parameters_init=springs.parameters_median,  # springs.parameters_default\n",
    "\n",
    "    measure=lambda ys: ys,\n",
    "\n",
    "    cache_path='./cache/springs_measure_1+2+3.pkl',\n",
    "    \n",
    "    log_reparam=False,\n",
    "    sigma=sigma,\n",
    ")"
   ]
  }
 ],
 "metadata": {
  "kernelspec": {
   "display_name": "Python 3 (ipykernel)",
   "language": "python",
   "name": "python3"
  },
  "language_info": {
   "codemirror_mode": {
    "name": "ipython",
    "version": 3
   },
   "file_extension": ".py",
   "mimetype": "text/x-python",
   "name": "python",
   "nbconvert_exporter": "python",
   "pygments_lexer": "ipython3",
   "version": "3.10.8"
  }
 },
 "nbformat": 4,
 "nbformat_minor": 5
}
